{
 "cells": [
  {
   "cell_type": "markdown",
   "id": "b3c53db5",
   "metadata": {},
   "source": [
    "## Importing Libraries "
   ]
  },
  {
   "cell_type": "code",
   "execution_count": 1,
   "id": "708a5683",
   "metadata": {},
   "outputs": [
    {
     "name": "stderr",
     "output_type": "stream",
     "text": [
      "[nltk_data] Downloading package punkt to\n",
      "[nltk_data]     /Users/shubhamghag/nltk_data...\n",
      "[nltk_data]   Package punkt is already up-to-date!\n",
      "[nltk_data] Downloading package stopwords to\n",
      "[nltk_data]     /Users/shubhamghag/nltk_data...\n",
      "[nltk_data]   Package stopwords is already up-to-date!\n"
     ]
    },
    {
     "data": {
      "text/plain": [
       "True"
      ]
     },
     "execution_count": 1,
     "metadata": {},
     "output_type": "execute_result"
    }
   ],
   "source": [
    "import numpy as np\n",
    "import pandas as pd \n",
    "\n",
    "import nltk\n",
    "from nltk.stem import PorterStemmer\n",
    "from nltk.corpus import stopwords\n",
    "from nltk.tokenize import word_tokenize\n",
    "\n",
    "from sklearn.model_selection import train_test_split\n",
    "\n",
    "from bs4 import BeautifulSoup\n",
    "\n",
    "from os import walk\n",
    "from os.path import join\n",
    "\n",
    "import matplotlib.pyplot as plt \n",
    "from wordcloud import WordCloud\n",
    "from PIL import Image\n",
    "import seaborn as sns\n",
    "\n",
    "#Other \n",
    "%matplotlib inline\n",
    "nltk.download('punkt')\n",
    "nltk.download('stopwords')"
   ]
  },
  {
   "cell_type": "markdown",
   "id": "2f711e2f",
   "metadata": {},
   "source": [
    "## Constants"
   ]
  },
  {
   "cell_type": "code",
   "execution_count": 149,
   "id": "5332dfd7",
   "metadata": {},
   "outputs": [],
   "source": [
    "EXAMPLE_FILE = 'SpamData/01_Processing/practice_email.txt'\n",
    "\n",
    "\n",
    "SPAM_1_PATH = 'SpamData/01_Processing/spam_assassin_corpus/spam_1'\n",
    "SPAM_2_PATH = 'SpamData/01_Processing/spam_assassin_corpus/spam_2'\n",
    "EASY_NONSPAM_1_PATH = 'SpamData/01_Processing/spam_assassin_corpus/easy_ham_1'\n",
    "EASY_NONSPAM_2_PATH = 'SpamData/01_Processing/spam_assassin_corpus/easy_ham_2'\n",
    "\n",
    "SPAM_CAT = 1\n",
    "HAM_CAT = 0\n",
    "VOCAB_SIZE = 2500\n",
    "\n",
    "DATA_JSON_FILE = 'SpamData/01_Processing/email-text-data.json'\n",
    "WORD_ID_FILE = 'SpamData/01_Processing/word-by-id.csv'\n",
    "\n",
    "TRAINING_DATA_FILE ='SpamData/02_Training/train-data.txt'\n",
    "TESTING_DATA_FILE ='SpamData/02_Training/test-data.txt'\n",
    "\n",
    "TOKEN_SPAM_PROB_FILE ='SpamData/03_Testing/prob-spam.txt'\n",
    "TOKEN_NORM_PROB_FILE ='SpamData/03_Testing/prob-norm.txt'\n",
    "TOKEN_ALL_PROB_FILE ='SpamData/03_Testing/prob-all-tokens.txt'\n",
    "\n",
    "TEST_FEATURE_MATRIX ='SpamData/03_Testing/test-features.txt'\n",
    "TEST_TARGET_FILE = 'SpamData/03_Testing/test-target.txt'\n",
    "\n",
    "\n",
    "LIKE_FILE = 'SpamData/01_Processing/wordcloud_resources/thumbs-up.png'\n",
    "UNLIKE_FILE = 'SpamData/01_Processing/wordcloud_resources/thumbs-down.png'\n",
    "CUSTOM_FONT_FILE = 'SpamData/01_Processing/wordcloud_resources/OpenSansCondensed-Bold.ttf'"
   ]
  },
  {
   "cell_type": "markdown",
   "id": "18df6565",
   "metadata": {},
   "source": [
    "## Reading Files "
   ]
  },
  {
   "cell_type": "code",
   "execution_count": 3,
   "id": "f1768475",
   "metadata": {},
   "outputs": [
    {
     "name": "stdout",
     "output_type": "stream",
     "text": [
      "<class 'str'>\n",
      "From exmh-workers-admin@redhat.com  Thu Aug 22 12:36:23 2002\n",
      "Return-Path: <exmh-workers-admin@spamassassin.taint.org>\n",
      "Delivered-To: zzzz@localhost.netnoteinc.com\n",
      "Received: from localhost (localhost [127.0.0.1])\n",
      "\tby phobos.labs.netnoteinc.com (Postfix) with ESMTP id D03E543C36\n",
      "\tfor <zzzz@localhost>; Thu, 22 Aug 2002 07:36:16 -0400 (EDT)\n",
      "Received: from phobos [127.0.0.1]\n",
      "\tby localhost with IMAP (fetchmail-5.9.0)\n",
      "\tfor zzzz@localhost (single-drop); Thu, 22 Aug 2002 12:36:16 +0100 (IST)\n",
      "Received: from listman.spamassassin.taint.org (listman.spamassassin.taint.org [66.187.233.211]) by\n",
      "    dogma.slashnull.org (8.11.6/8.11.6) with ESMTP id g7MBYrZ04811 for\n",
      "    <zzzz-exmh@spamassassin.taint.org>; Thu, 22 Aug 2002 12:34:53 +0100\n",
      "Received: from listman.spamassassin.taint.org (localhost.localdomain [127.0.0.1]) by\n",
      "    listman.redhat.com (Postfix) with ESMTP id 8386540858; Thu, 22 Aug 2002\n",
      "    07:35:02 -0400 (EDT)\n",
      "Delivered-To: exmh-workers@listman.spamassassin.taint.org\n",
      "Received: from int-mx1.corp.spamassassin.taint.org (int-mx1.corp.spamassassin.taint.org\n",
      "    [172.16.52.254]) by listman.redhat.com (Postfix) with ESMTP id 10CF8406D7\n",
      "    for <exmh-workers@listman.redhat.com>; Thu, 22 Aug 2002 07:34:10 -0400\n",
      "    (EDT)\n",
      "Received: (from mail@localhost) by int-mx1.corp.spamassassin.taint.org (8.11.6/8.11.6)\n",
      "    id g7MBY7g11259 for exmh-workers@listman.redhat.com; Thu, 22 Aug 2002\n",
      "    07:34:07 -0400\n",
      "Received: from mx1.spamassassin.taint.org (mx1.spamassassin.taint.org [172.16.48.31]) by\n",
      "    int-mx1.corp.redhat.com (8.11.6/8.11.6) with SMTP id g7MBY7Y11255 for\n",
      "    <exmh-workers@redhat.com>; Thu, 22 Aug 2002 07:34:07 -0400\n",
      "Received: from ratree.psu.ac.th ([202.28.97.6]) by mx1.spamassassin.taint.org\n",
      "    (8.11.6/8.11.6) with SMTP id g7MBIhl25223 for <exmh-workers@redhat.com>;\n",
      "    Thu, 22 Aug 2002 07:18:55 -0400\n",
      "Received: from delta.cs.mu.OZ.AU (delta.coe.psu.ac.th [172.30.0.98]) by\n",
      "    ratree.psu.ac.th (8.11.6/8.11.6) with ESMTP id g7MBWel29762;\n",
      "    Thu, 22 Aug 2002 18:32:40 +0700 (ICT)\n",
      "Received: from munnari.OZ.AU (localhost [127.0.0.1]) by delta.cs.mu.OZ.AU\n",
      "    (8.11.6/8.11.6) with ESMTP id g7MBQPW13260; Thu, 22 Aug 2002 18:26:25\n",
      "    +0700 (ICT)\n",
      "From: Robert Elz <kre@munnari.OZ.AU>\n",
      "To: Chris Garrigues <cwg-dated-1030377287.06fa6d@DeepEddy.Com>\n",
      "Cc: exmh-workers@spamassassin.taint.org\n",
      "Subject: Re: New Sequences Window\n",
      "In-Reply-To: <1029945287.4797.TMDA@deepeddy.vircio.com>\n",
      "References: <1029945287.4797.TMDA@deepeddy.vircio.com>\n",
      "    <1029882468.3116.TMDA@deepeddy.vircio.com> <9627.1029933001@munnari.OZ.AU>\n",
      "    <1029943066.26919.TMDA@deepeddy.vircio.com>\n",
      "    <1029944441.398.TMDA@deepeddy.vircio.com>\n",
      "MIME-Version: 1.0\n",
      "Content-Type: text/plain; charset=us-ascii\n",
      "Message-Id: <13258.1030015585@munnari.OZ.AU>\n",
      "X-Loop: exmh-workers@spamassassin.taint.org\n",
      "Sender: exmh-workers-admin@spamassassin.taint.org\n",
      "Errors-To: exmh-workers-admin@spamassassin.taint.org\n",
      "X-Beenthere: exmh-workers@spamassassin.taint.org\n",
      "X-Mailman-Version: 2.0.1\n",
      "Precedence: bulk\n",
      "List-Help: <mailto:exmh-workers-request@spamassassin.taint.org?subject=help>\n",
      "List-Post: <mailto:exmh-workers@spamassassin.taint.org>\n",
      "List-Subscribe: <https://listman.spamassassin.taint.org/mailman/listinfo/exmh-workers>,\n",
      "    <mailto:exmh-workers-request@redhat.com?subject=subscribe>\n",
      "List-Id: Discussion list for EXMH developers <exmh-workers.spamassassin.taint.org>\n",
      "List-Unsubscribe: <https://listman.spamassassin.taint.org/mailman/listinfo/exmh-workers>,\n",
      "    <mailto:exmh-workers-request@redhat.com?subject=unsubscribe>\n",
      "List-Archive: <https://listman.spamassassin.taint.org/mailman/private/exmh-workers/>\n",
      "Date: Thu, 22 Aug 2002 18:26:25 +0700\n",
      "\n",
      "\n",
      "Dear Mr Still\n",
      "\n",
      "Good tidings to you and all your staff for the festive season ahead (Christmas).\n",
      "Now to the crux of the matter-in-hand: I am a fully qualified Santa Claus and am wondering whether you might consider me to run my own \"Santa's Grotto\" in your store.\n",
      "But WAIT! You're probably thinking: \"What makes him so special?\"\n",
      "Well, first of all, I have made several changes to the characterisation of Father Christmas. Rather than greeting the children with shouts of \"Ho, ho, ho!\" I prefer to whisper the phrase \"Dependence is not unfathomable in this cruel world we live in\". In addition, my gifts are ALL hand-made, ranging from felt hoops to vanilla-pod holders.\n",
      "You will note also, from the enclosed sketch, that I have radically redesigned Santa's outfit and have renamed my character \"Lord Buckles\". Would you be interested in employing me? I promise NEVER to let you down.\n",
      "I look forward to hearing from you.\n",
      "\n",
      "Best wishes\n",
      "Robin Cooper\n",
      "[Excerpt from the book: The Timewaster Letters by Robin Cooper]\n",
      "\n"
     ]
    }
   ],
   "source": [
    "stream = open(EXAMPLE_FILE, encoding='latin-1')\n",
    "message = stream.read()\n",
    "stream.close()\n",
    "\n",
    "print(type(message))\n",
    "print(message)"
   ]
  },
  {
   "cell_type": "code",
   "execution_count": 4,
   "id": "dccd63f2",
   "metadata": {},
   "outputs": [
    {
     "name": "stdout",
     "output_type": "stream",
     "text": [
      "\n",
      "\n",
      "Dear Mr Still\n",
      "\n",
      "\n",
      "\n",
      "Good tidings to you and all your staff for the festive season ahead (Christmas).\n",
      "\n",
      "Now to the crux of the matter-in-hand: I am a fully qualified Santa Claus and am wondering whether you might consider me to run my own \"Santa's Grotto\" in your store.\n",
      "\n",
      "But WAIT! You're probably thinking: \"What makes him so special?\"\n",
      "\n",
      "Well, first of all, I have made several changes to the characterisation of Father Christmas. Rather than greeting the children with shouts of \"Ho, ho, ho!\" I prefer to whisper the phrase \"Dependence is not unfathomable in this cruel world we live in\". In addition, my gifts are ALL hand-made, ranging from felt hoops to vanilla-pod holders.\n",
      "\n",
      "You will note also, from the enclosed sketch, that I have radically redesigned Santa's outfit and have renamed my character \"Lord Buckles\". Would you be interested in employing me? I promise NEVER to let you down.\n",
      "\n",
      "I look forward to hearing from you.\n",
      "\n",
      "\n",
      "\n",
      "Best wishes\n",
      "\n",
      "Robin Cooper\n",
      "\n",
      "[Excerpt from the book: The Timewaster Letters by Robin Cooper]\n",
      "\n"
     ]
    }
   ],
   "source": [
    "stream = open(EXAMPLE_FILE, encoding='latin-1')\n",
    "\n",
    "is_body = False \n",
    "lines = []\n",
    "\n",
    "for line in stream:\n",
    "    if is_body:\n",
    "        lines.append(line)\n",
    "    elif line == '\\n':\n",
    "        is_body = True\n",
    "\n",
    "stream.close()\n",
    "\n",
    "email_body = '\\n'.join(lines)\n",
    "print(email_body)\n",
    "\n"
   ]
  },
  {
   "cell_type": "markdown",
   "id": "8213c348",
   "metadata": {},
   "source": [
    "## Generator Function"
   ]
  },
  {
   "cell_type": "code",
   "execution_count": 5,
   "id": "6fb2fc75",
   "metadata": {},
   "outputs": [],
   "source": [
    "def generate_squares(N):\n",
    "    for my_number in range(N):\n",
    "        yield my_number ** 2"
   ]
  },
  {
   "cell_type": "code",
   "execution_count": 6,
   "id": "d40ab923",
   "metadata": {},
   "outputs": [
    {
     "name": "stdout",
     "output_type": "stream",
     "text": [
      "0 -> 1 -> 4 -> 9 -> 16 -> "
     ]
    }
   ],
   "source": [
    "for i in generate_squares(5):\n",
    "    print(i, end=' -> ')"
   ]
  },
  {
   "cell_type": "markdown",
   "id": "97b3d0c6",
   "metadata": {},
   "source": [
    "## Email Body Extraction"
   ]
  },
  {
   "cell_type": "code",
   "execution_count": 7,
   "id": "2c027d79",
   "metadata": {},
   "outputs": [],
   "source": [
    "def email_body_generator(path):\n",
    "    \n",
    "    for root, dirnames, filenames in walk(path):\n",
    "        for file_name in filenames:\n",
    "            \n",
    "            filepath = join(root, file_name)\n",
    "            \n",
    "            stream = open(filepath, encoding='latin-1')\n",
    "\n",
    "            is_body = False \n",
    "            lines = []\n",
    "            for line in stream:\n",
    "                if is_body:\n",
    "                    lines.append(line)\n",
    "                elif line == '\\n':\n",
    "                    is_body = True\n",
    "\n",
    "            stream.close()\n",
    "\n",
    "            email_body = '\\n'.join(lines)\n",
    "            \n",
    "            yield file_name, email_body \n",
    "\n",
    "        "
   ]
  },
  {
   "cell_type": "code",
   "execution_count": 8,
   "id": "65f4f1ff",
   "metadata": {},
   "outputs": [],
   "source": [
    "def df_from_directory(path, classification):\n",
    "    rows = []\n",
    "    row_names = []\n",
    "    \n",
    "    for file_name, email_body in email_body_generator(path):\n",
    "        rows.append({'MESSAGE': email_body, 'CATEGORY': classification})\n",
    "        row_names.append(file_name)\n",
    "        \n",
    "    return pd.DataFrame(rows, index=row_names)"
   ]
  },
  {
   "cell_type": "code",
   "execution_count": 9,
   "id": "55d6c475",
   "metadata": {},
   "outputs": [
    {
     "data": {
      "text/html": [
       "<div>\n",
       "<style scoped>\n",
       "    .dataframe tbody tr th:only-of-type {\n",
       "        vertical-align: middle;\n",
       "    }\n",
       "\n",
       "    .dataframe tbody tr th {\n",
       "        vertical-align: top;\n",
       "    }\n",
       "\n",
       "    .dataframe thead th {\n",
       "        text-align: right;\n",
       "    }\n",
       "</style>\n",
       "<table border=\"1\" class=\"dataframe\">\n",
       "  <thead>\n",
       "    <tr style=\"text-align: right;\">\n",
       "      <th></th>\n",
       "      <th>MESSAGE</th>\n",
       "      <th>CATEGORY</th>\n",
       "    </tr>\n",
       "  </thead>\n",
       "  <tbody>\n",
       "    <tr>\n",
       "      <th>00249.5f45607c1bffe89f60ba1ec9f878039a</th>\n",
       "      <td>Dear Homeowner,\\n\\n \\n\\nInterest Rates are at ...</td>\n",
       "      <td>1</td>\n",
       "    </tr>\n",
       "    <tr>\n",
       "      <th>00373.ebe8670ac56b04125c25100a36ab0510</th>\n",
       "      <td>ATTENTION: This is a MUST for ALL Computer Use...</td>\n",
       "      <td>1</td>\n",
       "    </tr>\n",
       "    <tr>\n",
       "      <th>00214.1367039e50dc6b7adb0f2aa8aba83216</th>\n",
       "      <td>This is a multi-part message in MIME format.\\n...</td>\n",
       "      <td>1</td>\n",
       "    </tr>\n",
       "    <tr>\n",
       "      <th>00210.050ffd105bd4e006771ee63cabc59978</th>\n",
       "      <td>IMPORTANT INFORMATION:\\n\\n\\n\\nThe new domain n...</td>\n",
       "      <td>1</td>\n",
       "    </tr>\n",
       "    <tr>\n",
       "      <th>00033.9babb58d9298daa2963d4f514193d7d6</th>\n",
       "      <td>This is the bottom line.  If you can GIVE AWAY...</td>\n",
       "      <td>1</td>\n",
       "    </tr>\n",
       "  </tbody>\n",
       "</table>\n",
       "</div>"
      ],
      "text/plain": [
       "                                                                                  MESSAGE  \\\n",
       "00249.5f45607c1bffe89f60ba1ec9f878039a  Dear Homeowner,\\n\\n \\n\\nInterest Rates are at ...   \n",
       "00373.ebe8670ac56b04125c25100a36ab0510  ATTENTION: This is a MUST for ALL Computer Use...   \n",
       "00214.1367039e50dc6b7adb0f2aa8aba83216  This is a multi-part message in MIME format.\\n...   \n",
       "00210.050ffd105bd4e006771ee63cabc59978  IMPORTANT INFORMATION:\\n\\n\\n\\nThe new domain n...   \n",
       "00033.9babb58d9298daa2963d4f514193d7d6  This is the bottom line.  If you can GIVE AWAY...   \n",
       "\n",
       "                                        CATEGORY  \n",
       "00249.5f45607c1bffe89f60ba1ec9f878039a         1  \n",
       "00373.ebe8670ac56b04125c25100a36ab0510         1  \n",
       "00214.1367039e50dc6b7adb0f2aa8aba83216         1  \n",
       "00210.050ffd105bd4e006771ee63cabc59978         1  \n",
       "00033.9babb58d9298daa2963d4f514193d7d6         1  "
      ]
     },
     "execution_count": 9,
     "metadata": {},
     "output_type": "execute_result"
    }
   ],
   "source": [
    "spam_emails = df_from_directory(SPAM_1_PATH, SPAM_CAT)\n",
    "spam_emails = spam_emails.append(df_from_directory(SPAM_2_PATH,SPAM_CAT))\n",
    "spam_emails.head()"
   ]
  },
  {
   "cell_type": "code",
   "execution_count": 10,
   "id": "81e609ce",
   "metadata": {},
   "outputs": [
    {
     "data": {
      "text/plain": [
       "(1898, 2)"
      ]
     },
     "execution_count": 10,
     "metadata": {},
     "output_type": "execute_result"
    }
   ],
   "source": [
    "spam_emails.shape"
   ]
  },
  {
   "cell_type": "code",
   "execution_count": 11,
   "id": "e35f27fa",
   "metadata": {},
   "outputs": [
    {
     "data": {
      "text/html": [
       "<div>\n",
       "<style scoped>\n",
       "    .dataframe tbody tr th:only-of-type {\n",
       "        vertical-align: middle;\n",
       "    }\n",
       "\n",
       "    .dataframe tbody tr th {\n",
       "        vertical-align: top;\n",
       "    }\n",
       "\n",
       "    .dataframe thead th {\n",
       "        text-align: right;\n",
       "    }\n",
       "</style>\n",
       "<table border=\"1\" class=\"dataframe\">\n",
       "  <thead>\n",
       "    <tr style=\"text-align: right;\">\n",
       "      <th></th>\n",
       "      <th>MESSAGE</th>\n",
       "      <th>CATEGORY</th>\n",
       "    </tr>\n",
       "  </thead>\n",
       "  <tbody>\n",
       "    <tr>\n",
       "      <th>00769.25bf9a767b5db0ed93f03c1637281663</th>\n",
       "      <td>\\n\\nIn a message dated 9/24/2002 11:24:58 AM, ...</td>\n",
       "      <td>0</td>\n",
       "    </tr>\n",
       "    <tr>\n",
       "      <th>01074.8590d61ac0aeeadb58dc2f2ba776c406</th>\n",
       "      <td>Hiya, I always seem to get errors when I do an...</td>\n",
       "      <td>0</td>\n",
       "    </tr>\n",
       "    <tr>\n",
       "      <th>02479.14365bcad3a60fcf24c5c1813f6291fb</th>\n",
       "      <td>\\n\\nI don't know how one can expect better and...</td>\n",
       "      <td>0</td>\n",
       "    </tr>\n",
       "    <tr>\n",
       "      <th>01417.ce7b07a2114218dbac682b599785820d</th>\n",
       "      <td>Tim Peters wrote:\\n\\n&gt; I've run no experiments...</td>\n",
       "      <td>0</td>\n",
       "    </tr>\n",
       "    <tr>\n",
       "      <th>00357.d559b71616f64ba1d1c1e61a03644fd4</th>\n",
       "      <td>At 10:34 AM -0700 on 8/28/02, Jim Whitehead wr...</td>\n",
       "      <td>0</td>\n",
       "    </tr>\n",
       "  </tbody>\n",
       "</table>\n",
       "</div>"
      ],
      "text/plain": [
       "                                                                                  MESSAGE  \\\n",
       "00769.25bf9a767b5db0ed93f03c1637281663  \\n\\nIn a message dated 9/24/2002 11:24:58 AM, ...   \n",
       "01074.8590d61ac0aeeadb58dc2f2ba776c406  Hiya, I always seem to get errors when I do an...   \n",
       "02479.14365bcad3a60fcf24c5c1813f6291fb  \\n\\nI don't know how one can expect better and...   \n",
       "01417.ce7b07a2114218dbac682b599785820d  Tim Peters wrote:\\n\\n> I've run no experiments...   \n",
       "00357.d559b71616f64ba1d1c1e61a03644fd4  At 10:34 AM -0700 on 8/28/02, Jim Whitehead wr...   \n",
       "\n",
       "                                        CATEGORY  \n",
       "00769.25bf9a767b5db0ed93f03c1637281663         0  \n",
       "01074.8590d61ac0aeeadb58dc2f2ba776c406         0  \n",
       "02479.14365bcad3a60fcf24c5c1813f6291fb         0  \n",
       "01417.ce7b07a2114218dbac682b599785820d         0  \n",
       "00357.d559b71616f64ba1d1c1e61a03644fd4         0  "
      ]
     },
     "execution_count": 11,
     "metadata": {},
     "output_type": "execute_result"
    }
   ],
   "source": [
    "non_spam_emails = df_from_directory(EASY_NONSPAM_1_PATH,HAM_CAT)\n",
    "non_spam_emails = non_spam_emails.append(df_from_directory(EASY_NONSPAM_2_PATH,HAM_CAT))\n",
    "non_spam_emails.head()"
   ]
  },
  {
   "cell_type": "code",
   "execution_count": 12,
   "id": "f43de394",
   "metadata": {},
   "outputs": [
    {
     "data": {
      "text/plain": [
       "(3901, 2)"
      ]
     },
     "execution_count": 12,
     "metadata": {},
     "output_type": "execute_result"
    }
   ],
   "source": [
    "non_spam_emails.shape"
   ]
  },
  {
   "cell_type": "code",
   "execution_count": 13,
   "id": "4f051e5a",
   "metadata": {},
   "outputs": [
    {
     "name": "stdout",
     "output_type": "stream",
     "text": [
      "Shape of the entire dataframe is: (5799, 2)\n"
     ]
    },
    {
     "data": {
      "text/html": [
       "<div>\n",
       "<style scoped>\n",
       "    .dataframe tbody tr th:only-of-type {\n",
       "        vertical-align: middle;\n",
       "    }\n",
       "\n",
       "    .dataframe tbody tr th {\n",
       "        vertical-align: top;\n",
       "    }\n",
       "\n",
       "    .dataframe thead th {\n",
       "        text-align: right;\n",
       "    }\n",
       "</style>\n",
       "<table border=\"1\" class=\"dataframe\">\n",
       "  <thead>\n",
       "    <tr style=\"text-align: right;\">\n",
       "      <th></th>\n",
       "      <th>MESSAGE</th>\n",
       "      <th>CATEGORY</th>\n",
       "    </tr>\n",
       "  </thead>\n",
       "  <tbody>\n",
       "    <tr>\n",
       "      <th>00249.5f45607c1bffe89f60ba1ec9f878039a</th>\n",
       "      <td>Dear Homeowner,\\n\\n \\n\\nInterest Rates are at ...</td>\n",
       "      <td>1</td>\n",
       "    </tr>\n",
       "    <tr>\n",
       "      <th>00373.ebe8670ac56b04125c25100a36ab0510</th>\n",
       "      <td>ATTENTION: This is a MUST for ALL Computer Use...</td>\n",
       "      <td>1</td>\n",
       "    </tr>\n",
       "    <tr>\n",
       "      <th>00214.1367039e50dc6b7adb0f2aa8aba83216</th>\n",
       "      <td>This is a multi-part message in MIME format.\\n...</td>\n",
       "      <td>1</td>\n",
       "    </tr>\n",
       "    <tr>\n",
       "      <th>00210.050ffd105bd4e006771ee63cabc59978</th>\n",
       "      <td>IMPORTANT INFORMATION:\\n\\n\\n\\nThe new domain n...</td>\n",
       "      <td>1</td>\n",
       "    </tr>\n",
       "    <tr>\n",
       "      <th>00033.9babb58d9298daa2963d4f514193d7d6</th>\n",
       "      <td>This is the bottom line.  If you can GIVE AWAY...</td>\n",
       "      <td>1</td>\n",
       "    </tr>\n",
       "  </tbody>\n",
       "</table>\n",
       "</div>"
      ],
      "text/plain": [
       "                                                                                  MESSAGE  \\\n",
       "00249.5f45607c1bffe89f60ba1ec9f878039a  Dear Homeowner,\\n\\n \\n\\nInterest Rates are at ...   \n",
       "00373.ebe8670ac56b04125c25100a36ab0510  ATTENTION: This is a MUST for ALL Computer Use...   \n",
       "00214.1367039e50dc6b7adb0f2aa8aba83216  This is a multi-part message in MIME format.\\n...   \n",
       "00210.050ffd105bd4e006771ee63cabc59978  IMPORTANT INFORMATION:\\n\\n\\n\\nThe new domain n...   \n",
       "00033.9babb58d9298daa2963d4f514193d7d6  This is the bottom line.  If you can GIVE AWAY...   \n",
       "\n",
       "                                        CATEGORY  \n",
       "00249.5f45607c1bffe89f60ba1ec9f878039a         1  \n",
       "00373.ebe8670ac56b04125c25100a36ab0510         1  \n",
       "00214.1367039e50dc6b7adb0f2aa8aba83216         1  \n",
       "00210.050ffd105bd4e006771ee63cabc59978         1  \n",
       "00033.9babb58d9298daa2963d4f514193d7d6         1  "
      ]
     },
     "execution_count": 13,
     "metadata": {},
     "output_type": "execute_result"
    }
   ],
   "source": [
    "df = pd.concat([spam_emails, non_spam_emails])\n",
    "print(\"Shape of the entire dataframe is:\", df.shape)\n",
    "df.head()"
   ]
  },
  {
   "cell_type": "markdown",
   "id": "de54831a",
   "metadata": {},
   "source": [
    "## Data Cleaning "
   ]
  },
  {
   "cell_type": "code",
   "execution_count": 14,
   "id": "8a7b86bb",
   "metadata": {},
   "outputs": [
    {
     "data": {
      "text/plain": [
       "0"
      ]
     },
     "execution_count": 14,
     "metadata": {},
     "output_type": "execute_result"
    }
   ],
   "source": [
    "df['MESSAGE'].isnull().sum()"
   ]
  },
  {
   "cell_type": "code",
   "execution_count": 15,
   "id": "cba9960b",
   "metadata": {},
   "outputs": [
    {
     "data": {
      "text/plain": [
       "3"
      ]
     },
     "execution_count": 15,
     "metadata": {},
     "output_type": "execute_result"
    }
   ],
   "source": [
    "(df.MESSAGE.str.len() == 0).sum()"
   ]
  },
  {
   "cell_type": "code",
   "execution_count": 16,
   "id": "ae74073a",
   "metadata": {},
   "outputs": [
    {
     "data": {
      "text/plain": [
       "Index(['cmds', 'cmds', 'cmds'], dtype='object')"
      ]
     },
     "execution_count": 16,
     "metadata": {},
     "output_type": "execute_result"
    }
   ],
   "source": [
    "df[df.MESSAGE.str.len() == 0].index"
   ]
  },
  {
   "cell_type": "code",
   "execution_count": 17,
   "id": "1c69f643",
   "metadata": {},
   "outputs": [],
   "source": [
    "df.drop(['cmds'], inplace=True)"
   ]
  },
  {
   "cell_type": "code",
   "execution_count": 18,
   "id": "95aa2ccc",
   "metadata": {},
   "outputs": [
    {
     "data": {
      "text/plain": [
       "0"
      ]
     },
     "execution_count": 18,
     "metadata": {},
     "output_type": "execute_result"
    }
   ],
   "source": [
    "(df.MESSAGE.str.len() == 0).sum()"
   ]
  },
  {
   "cell_type": "code",
   "execution_count": 19,
   "id": "ba1259cb",
   "metadata": {},
   "outputs": [
    {
     "data": {
      "text/plain": [
       "(5796, 2)"
      ]
     },
     "execution_count": 19,
     "metadata": {},
     "output_type": "execute_result"
    }
   ],
   "source": [
    "df.shape"
   ]
  },
  {
   "cell_type": "markdown",
   "id": "6d1a8155",
   "metadata": {},
   "source": [
    "## Adding Document IDs to Track Emails in DF "
   ]
  },
  {
   "cell_type": "code",
   "execution_count": 20,
   "id": "39db3cc9",
   "metadata": {},
   "outputs": [],
   "source": [
    "doc_ids = range(0, len(df.index))\n",
    "df['DOC_IDS'] = doc_ids"
   ]
  },
  {
   "cell_type": "code",
   "execution_count": 21,
   "id": "b9d8e27f",
   "metadata": {},
   "outputs": [
    {
     "data": {
      "text/html": [
       "<div>\n",
       "<style scoped>\n",
       "    .dataframe tbody tr th:only-of-type {\n",
       "        vertical-align: middle;\n",
       "    }\n",
       "\n",
       "    .dataframe tbody tr th {\n",
       "        vertical-align: top;\n",
       "    }\n",
       "\n",
       "    .dataframe thead th {\n",
       "        text-align: right;\n",
       "    }\n",
       "</style>\n",
       "<table border=\"1\" class=\"dataframe\">\n",
       "  <thead>\n",
       "    <tr style=\"text-align: right;\">\n",
       "      <th></th>\n",
       "      <th>MESSAGE</th>\n",
       "      <th>CATEGORY</th>\n",
       "      <th>FILE_NAME</th>\n",
       "    </tr>\n",
       "    <tr>\n",
       "      <th>DOC_IDS</th>\n",
       "      <th></th>\n",
       "      <th></th>\n",
       "      <th></th>\n",
       "    </tr>\n",
       "  </thead>\n",
       "  <tbody>\n",
       "    <tr>\n",
       "      <th>0</th>\n",
       "      <td>Dear Homeowner,\\n\\n \\n\\nInterest Rates are at ...</td>\n",
       "      <td>1</td>\n",
       "      <td>00249.5f45607c1bffe89f60ba1ec9f878039a</td>\n",
       "    </tr>\n",
       "    <tr>\n",
       "      <th>1</th>\n",
       "      <td>ATTENTION: This is a MUST for ALL Computer Use...</td>\n",
       "      <td>1</td>\n",
       "      <td>00373.ebe8670ac56b04125c25100a36ab0510</td>\n",
       "    </tr>\n",
       "    <tr>\n",
       "      <th>2</th>\n",
       "      <td>This is a multi-part message in MIME format.\\n...</td>\n",
       "      <td>1</td>\n",
       "      <td>00214.1367039e50dc6b7adb0f2aa8aba83216</td>\n",
       "    </tr>\n",
       "    <tr>\n",
       "      <th>3</th>\n",
       "      <td>IMPORTANT INFORMATION:\\n\\n\\n\\nThe new domain n...</td>\n",
       "      <td>1</td>\n",
       "      <td>00210.050ffd105bd4e006771ee63cabc59978</td>\n",
       "    </tr>\n",
       "    <tr>\n",
       "      <th>4</th>\n",
       "      <td>This is the bottom line.  If you can GIVE AWAY...</td>\n",
       "      <td>1</td>\n",
       "      <td>00033.9babb58d9298daa2963d4f514193d7d6</td>\n",
       "    </tr>\n",
       "  </tbody>\n",
       "</table>\n",
       "</div>"
      ],
      "text/plain": [
       "                                                   MESSAGE  CATEGORY  \\\n",
       "DOC_IDS                                                                \n",
       "0        Dear Homeowner,\\n\\n \\n\\nInterest Rates are at ...         1   \n",
       "1        ATTENTION: This is a MUST for ALL Computer Use...         1   \n",
       "2        This is a multi-part message in MIME format.\\n...         1   \n",
       "3        IMPORTANT INFORMATION:\\n\\n\\n\\nThe new domain n...         1   \n",
       "4        This is the bottom line.  If you can GIVE AWAY...         1   \n",
       "\n",
       "                                      FILE_NAME  \n",
       "DOC_IDS                                          \n",
       "0        00249.5f45607c1bffe89f60ba1ec9f878039a  \n",
       "1        00373.ebe8670ac56b04125c25100a36ab0510  \n",
       "2        00214.1367039e50dc6b7adb0f2aa8aba83216  \n",
       "3        00210.050ffd105bd4e006771ee63cabc59978  \n",
       "4        00033.9babb58d9298daa2963d4f514193d7d6  "
      ]
     },
     "execution_count": 21,
     "metadata": {},
     "output_type": "execute_result"
    }
   ],
   "source": [
    "df['FILE_NAME'] = df.index\n",
    "df.set_index('DOC_IDS', inplace = True)\n",
    "df.head()"
   ]
  },
  {
   "cell_type": "code",
   "execution_count": 22,
   "id": "57960879",
   "metadata": {},
   "outputs": [],
   "source": [
    "df.to_json(DATA_JSON_FILE)"
   ]
  },
  {
   "cell_type": "markdown",
   "id": "1e063a34",
   "metadata": {},
   "source": [
    "## EDA"
   ]
  },
  {
   "cell_type": "code",
   "execution_count": 23,
   "id": "45706f0d",
   "metadata": {},
   "outputs": [
    {
     "data": {
      "text/plain": [
       "0    3900\n",
       "1    1896\n",
       "Name: CATEGORY, dtype: int64"
      ]
     },
     "execution_count": 23,
     "metadata": {},
     "output_type": "execute_result"
    }
   ],
   "source": [
    "df.CATEGORY.value_counts()"
   ]
  },
  {
   "cell_type": "code",
   "execution_count": 24,
   "id": "f3f33ee8",
   "metadata": {},
   "outputs": [],
   "source": [
    "total_spam = df.CATEGORY.value_counts()[1]\n",
    "total_non_spam = df.CATEGORY.value_counts()[0]"
   ]
  },
  {
   "cell_type": "code",
   "execution_count": 25,
   "id": "ea97838f",
   "metadata": {},
   "outputs": [
    {
     "data": {
      "image/png": "[encoded data removed]",
      "text/plain": [
       "<Figure size 540x720 with 1 Axes>"
      ]
     },
     "metadata": {},
     "output_type": "display_data"
    }
   ],
   "source": [
    "category_names = ['Spam', 'Normal']\n",
    "sizes = [total_spam,total_non_spam]\n",
    "\n",
    "custom_colors = ['#ED2B2A', '#BED754']\n",
    "\n",
    "plt.figure(figsize=(6,8),dpi=90)\n",
    "plt.pie(sizes, labels=category_names, textprops={'fontsize':16},startangle=90\n",
    "    ,autopct='%1.1f%%', colors=custom_colors,pctdistance=0.73)\n",
    "\n",
    "centre_circle = plt.Circle((0,0),radius=0.5,fc='white')\n",
    "plt.gca().add_artist(centre_circle)\n",
    "\n",
    "plt.show()"
   ]
  },
  {
   "cell_type": "markdown",
   "id": "b64e73b6",
   "metadata": {},
   "source": [
    "## Preprocessing the data for analysis\n",
    "### Word Stemming "
   ]
  },
  {
   "cell_type": "code",
   "execution_count": 26,
   "id": "8b544730",
   "metadata": {},
   "outputs": [],
   "source": [
    "stemmer = PorterStemmer()"
   ]
  },
  {
   "cell_type": "code",
   "execution_count": 27,
   "id": "eb530acc",
   "metadata": {
    "collapsed": true
   },
   "outputs": [
    {
     "name": "stdout",
     "output_type": "stream",
     "text": [
      "This is a multi-part message in MIME format.\n",
      "\n",
      "\n",
      "\n",
      "------=_NextPart_000_1CDC19_01C25366.4B57F3A0\n",
      "\n",
      "Content-Type: text/plain;\n",
      "\n",
      "\tcharset=\"Windows-1252\"\n",
      "\n",
      "Content-Transfer-Encoding: quoted-printable\n",
      "\n",
      "\n",
      "\n",
      " We dare you...\n",
      "\n",
      " Try to find a better annuity!\n",
      "\n",
      "=20\n",
      "\n",
      "  - 5.40% Guaranteed for 6 Years=0A=\n",
      "\n",
      "- 6 Year Surrender Charge=0A=\n",
      "\n",
      "- 5% Agent\n",
      "\n",
      "Commission up to age 80=09\n",
      "\n",
      "Call today for more information!\n",
      "\n",
      " 800-888-7641 ext. 103\n",
      "\n",
      "- or -\n",
      "\n",
      "\n",
      "\n",
      "Please fill out the form below for more information\t=20\n",
      "\n",
      "Name:\t \t  =09\n",
      "\n",
      "E-mail:\t \t=20\n",
      "\n",
      "Phone:\t \t=20\n",
      "\n",
      "City:\t \t State:\t \t=20\n",
      "\n",
      " \t    =09\n",
      "\n",
      "=20\n",
      "\n",
      " PMG Financial Services\n",
      "\n",
      "*5.40% for deposits of $100,000 and up, 5.25% interest for deposits\n",
      "\n",
      "totalling $25,000-$99,999.\t=20\n",
      "\n",
      "We don't want anyone to receive our mailings who does not wish to\n",
      "\n",
      "receive them. This is a professional communication sent to insurance\n",
      "\n",
      "professionals. To be removed from this mailing list, DO NOT REPLY to\n",
      "\n",
      "this message. Instead, go here: http://www.insuranceiq.com/optout\n",
      "\n",
      "=20\n",
      "\n",
      "\n",
      "\n",
      "Legal Notice =20\n",
      "\n",
      "\n",
      "\n",
      "------=_NextPart_000_1CDC19_01C25366.4B57F3A0\n",
      "\n",
      "Content-Type: text/html;\n",
      "\n",
      "\tcharset=\"iso-8859-1\"\n",
      "\n",
      "Content-Transfer-Encoding: quoted-printable\n",
      "\n",
      "\n",
      "\n",
      "\n",
      "\n",
      "We Dare You to Find a Better Annuity\n",
      "\n",
      "\n",
      "\n",
      "=20\n",
      "\n",
      "\n",
      "=20\n",
      "\n",
      "    \n",
      "\n",
      "\n",
      "=20\n",
      "\n",
      "      \n",
      "=20\n",
      "\n",
      "          \n",
      "\n",
      "=20\n",
      "\n",
      "          \n",
      "Call today for more information!\n",
      "\n",
      "\n",
      "            - or -\n",
      "\n",
      "=20\n",
      "\n",
      "                \n",
      "=20\n",
      "\n",
      "                    \n",
      "=20\n",
      "\n",
      "                        Please fill out the form below for more =\n",
      "\n",
      "information\n",
      "\n",
      "=20\n",
      "\n",
      "                        Name:\n",
      "\n",
      "\n",
      "\n",
      "=20\n",
      "\n",
      "                        E-mail:\n",
      "\n",
      "\n",
      "=20\n",
      "\n",
      "                        Phone:\n",
      "\n",
      "\n",
      "=20\n",
      "\n",
      "                        City:\n",
      "\n",
      "State:\n",
      "\n",
      "\n",
      "=20\n",
      "\n",
      "                         \n",
      "=20\n",
      "\n",
      "                          \n",
      "\n",
      "\n",
      "\n",
      "\n",
      "\n",
      "\n",
      "\n",
      "\n",
      "\n",
      "\n",
      "=20\n",
      "\n",
      "            \n",
      "\n",
      "=20\n",
      "\n",
      "          *5.40% for deposits of $100,000 and up, =\n",
      "\n",
      "5.25% interest for deposits totalling $25,000-$99,999.\n",
      "\n",
      "\n",
      "\n",
      "\n",
      "=20\n",
      "\n",
      "    \n",
      "We=20\n",
      "\n",
      "\t\t\tdon't want anyone to receive our mailings who does not=20\n",
      "\n",
      "\t\t\twish to receive them. This is a professional communication=20\n",
      "\n",
      "\t\t\tsent to insurance professionals. To be removed from this mailing=20\n",
      "\n",
      "\t\t\tlist, DO NOT REPLY to this message. Instead, go here: =20\n",
      "\n",
      "\t\t\thttp://www.insuranceiq.com/optout\n",
      "\n",
      "\n",
      "\n",
      "\n",
      "Legal Notice =20\n",
      "\n",
      "\n",
      "\n",
      "\n",
      "\n",
      "\n",
      "\n",
      "\n",
      "------=_NextPart_000_1CDC19_01C25366.4B57F3A0--\n",
      "\n",
      "\n",
      "\n"
     ]
    }
   ],
   "source": [
    "soup = BeautifulSoup(df.at[2,'MESSAGE'], 'html.parser')\n",
    "print(soup.get_text())"
   ]
  },
  {
   "cell_type": "code",
   "execution_count": 28,
   "id": "63c30cf6",
   "metadata": {},
   "outputs": [],
   "source": [
    "def clean_emails(email,stemmer=PorterStemmer()\n",
    "                ,stop_words=set(stopwords.words('english'))):\n",
    "    soup = BeautifulSoup(email,'html.parser')\n",
    "    cleaned = soup.get_text()\n",
    "    \n",
    "    words = word_tokenize(cleaned.lower())\n",
    "    \n",
    "    filtered_words = []\n",
    "    \n",
    "    for word in words:\n",
    "        if word not in stop_words and word.isalpha():\n",
    "            filtered_words.append(stemmer.stem(word))\n",
    "            #filtered_words.append(word)\n",
    "    return filtered_words"
   ]
  },
  {
   "cell_type": "code",
   "execution_count": 29,
   "id": "96980042",
   "metadata": {},
   "outputs": [
    {
     "data": {
      "text/plain": [
       "['messag',\n",
       " 'mime',\n",
       " 'format',\n",
       " 'dare',\n",
       " 'tri',\n",
       " 'find',\n",
       " 'better',\n",
       " 'annuiti',\n",
       " 'guarante',\n",
       " 'year',\n",
       " 'surrend',\n",
       " 'agent',\n",
       " 'commiss',\n",
       " 'age',\n",
       " 'call',\n",
       " 'today',\n",
       " 'inform',\n",
       " 'ext',\n",
       " 'pleas',\n",
       " 'fill',\n",
       " 'form',\n",
       " 'inform',\n",
       " 'name',\n",
       " 'phone',\n",
       " 'citi',\n",
       " 'state',\n",
       " 'pmg',\n",
       " 'financi',\n",
       " 'servic',\n",
       " 'deposit',\n",
       " 'interest',\n",
       " 'deposit',\n",
       " 'total',\n",
       " 'want',\n",
       " 'anyon',\n",
       " 'receiv',\n",
       " 'mail',\n",
       " 'wish',\n",
       " 'receiv',\n",
       " 'profession',\n",
       " 'commun',\n",
       " 'sent',\n",
       " 'insur',\n",
       " 'profession',\n",
       " 'remov',\n",
       " 'mail',\n",
       " 'list',\n",
       " 'repli',\n",
       " 'messag',\n",
       " 'instead',\n",
       " 'go',\n",
       " 'http',\n",
       " 'legal',\n",
       " 'notic',\n",
       " 'dare',\n",
       " 'find',\n",
       " 'better',\n",
       " 'annuiti',\n",
       " 'call',\n",
       " 'today',\n",
       " 'inform',\n",
       " 'pleas',\n",
       " 'fill',\n",
       " 'form',\n",
       " 'inform',\n",
       " 'name',\n",
       " 'phone',\n",
       " 'citi',\n",
       " 'state',\n",
       " 'deposit',\n",
       " 'interest',\n",
       " 'deposit',\n",
       " 'total',\n",
       " 'want',\n",
       " 'anyon',\n",
       " 'receiv',\n",
       " 'mail',\n",
       " 'wish',\n",
       " 'receiv',\n",
       " 'profession',\n",
       " 'sent',\n",
       " 'insur',\n",
       " 'profession',\n",
       " 'remov',\n",
       " 'list',\n",
       " 'repli',\n",
       " 'messag',\n",
       " 'instead',\n",
       " 'go',\n",
       " 'http',\n",
       " 'legal',\n",
       " 'notic']"
      ]
     },
     "execution_count": 29,
     "metadata": {},
     "output_type": "execute_result"
    }
   ],
   "source": [
    "clean_emails(df.at[2,'MESSAGE'])"
   ]
  },
  {
   "cell_type": "code",
   "execution_count": 30,
   "id": "b05c1654",
   "metadata": {},
   "outputs": [
    {
     "name": "stderr",
     "output_type": "stream",
     "text": [
      "/var/folders/dw/g0x_cwzj4l97vv535grtx42w0000gn/T/ipykernel_1260/2575873531.py:3: MarkupResemblesLocatorWarning: The input looks more like a filename than markup. You may want to open this file and pass the filehandle into Beautiful Soup.\n",
      "  soup = BeautifulSoup(email,'html.parser')\n",
      "/var/folders/dw/g0x_cwzj4l97vv535grtx42w0000gn/T/ipykernel_1260/2575873531.py:3: MarkupResemblesLocatorWarning: The input looks more like a URL than markup. You may want to use an HTTP client like requests to get the document behind the URL, and feed that document to Beautiful Soup.\n",
      "  soup = BeautifulSoup(email,'html.parser')\n"
     ]
    },
    {
     "name": "stdout",
     "output_type": "stream",
     "text": [
      "CPU times: user 35.4 s, sys: 111 ms, total: 35.5 s\n",
      "Wall time: 35.5 s\n"
     ]
    }
   ],
   "source": [
    "%%time\n",
    "\n",
    "nested_list = df.MESSAGE.apply(clean_emails)"
   ]
  },
  {
   "cell_type": "code",
   "execution_count": 31,
   "id": "af73d352",
   "metadata": {},
   "outputs": [
    {
     "data": {
      "text/plain": [
       "DOC_IDS\n",
       "0    [dear, homeown, interest, rate, lowest, point,...\n",
       "1    [attent, must, comput, user, packag, deal, nor...\n",
       "2    [messag, mime, format, dare, tri, find, better...\n",
       "3    [import, inform, new, domain, name, final, ava...\n",
       "4    [bottom, line, give, away, cd, free, peopl, li...\n",
       "Name: MESSAGE, dtype: object"
      ]
     },
     "execution_count": 31,
     "metadata": {},
     "output_type": "execute_result"
    }
   ],
   "source": [
    "nested_list.head()"
   ]
  },
  {
   "cell_type": "code",
   "execution_count": 32,
   "id": "cc742de3",
   "metadata": {},
   "outputs": [
    {
     "data": {
      "text/plain": [
       "DOC_IDS\n",
       "5791    [one, work, well, week, te, updat, server, syn...\n",
       "5792    [damien, morton, quot, approv, html, abl, say,...\n",
       "5793    [mon, che, wrote, that, correct, line, ad, rep...\n",
       "5794    [upon, time, manfr, wrote, would, like, instal...\n",
       "5795    [run, pick, use, new, ftoc, button, show, mess...\n",
       "Name: MESSAGE, dtype: object"
      ]
     },
     "execution_count": 32,
     "metadata": {},
     "output_type": "execute_result"
    }
   ],
   "source": [
    "nested_list.tail()"
   ]
  },
  {
   "cell_type": "code",
   "execution_count": 33,
   "id": "92959ab4",
   "metadata": {},
   "outputs": [
    {
     "data": {
      "text/plain": [
       "Int64Index([1896, 1897, 1898, 1899, 1900, 1901, 1902, 1903, 1904, 1905,\n",
       "            ...\n",
       "            5786, 5787, 5788, 5789, 5790, 5791, 5792, 5793, 5794, 5795],\n",
       "           dtype='int64', name='DOC_IDS', length=3900)"
      ]
     },
     "execution_count": 33,
     "metadata": {},
     "output_type": "execute_result"
    }
   ],
   "source": [
    "doc_ids_spam = df[df.CATEGORY == 1].index\n",
    "doc_ids_normal = df[df.CATEGORY == 0].index\n",
    "\n",
    "doc_ids_normal"
   ]
  },
  {
   "cell_type": "code",
   "execution_count": 34,
   "id": "96254a70",
   "metadata": {},
   "outputs": [
    {
     "data": {
      "text/plain": [
       "DOC_IDS\n",
       "1896    [messag, date, jamesr, write, situat, would, h...\n",
       "1897    [hiya, alway, seem, get, error, apt, updat, pr...\n",
       "1898    [know, one, expect, better, secur, code, commu...\n",
       "1899    [tim, peter, wrote, run, experi, train, set, s...\n",
       "1900    [jim, whitehead, wrote, great, half, need, bec...\n",
       "Name: MESSAGE, dtype: object"
      ]
     },
     "execution_count": 34,
     "metadata": {},
     "output_type": "execute_result"
    }
   ],
   "source": [
    "nested_list_normal = nested_list.loc[doc_ids_normal]\n",
    "nested_list_normal.head()"
   ]
  },
  {
   "cell_type": "code",
   "execution_count": 35,
   "id": "57fb5dc8",
   "metadata": {},
   "outputs": [
    {
     "data": {
      "text/plain": [
       "DOC_IDS\n",
       "0    [dear, homeown, interest, rate, lowest, point,...\n",
       "1    [attent, must, comput, user, packag, deal, nor...\n",
       "2    [messag, mime, format, dare, tri, find, better...\n",
       "3    [import, inform, new, domain, name, final, ava...\n",
       "4    [bottom, line, give, away, cd, free, peopl, li...\n",
       "Name: MESSAGE, dtype: object"
      ]
     },
     "execution_count": 35,
     "metadata": {},
     "output_type": "execute_result"
    }
   ],
   "source": [
    "nested_list_spam = nested_list.loc[doc_ids_spam]\n",
    "nested_list_spam.head()"
   ]
  },
  {
   "cell_type": "code",
   "execution_count": 36,
   "id": "b8d92e17",
   "metadata": {},
   "outputs": [
    {
     "name": "stdout",
     "output_type": "stream",
     "text": [
      "Total number of words in normal emails: 442056\n",
      "Total number of unique words in normal emails: 20815\n"
     ]
    }
   ],
   "source": [
    "flat_list_normal = [item for sublist in nested_list_normal for item in sublist]\n",
    "normal_words = pd.Series(flat_list_normal)\n",
    "unique_words = pd.Series(flat_list_normal).value_counts()\n",
    "\n",
    "print('Total number of words in normal emails:', normal_words.shape[0])\n",
    "print('Total number of unique words in normal emails:', unique_words.shape[0])"
   ]
  },
  {
   "cell_type": "code",
   "execution_count": 37,
   "id": "8094d3e1",
   "metadata": {},
   "outputs": [
    {
     "name": "stdout",
     "output_type": "stream",
     "text": [
      "Most Common words: http      7563\n",
      "use       3633\n",
      "list      2880\n",
      "one       2373\n",
      "get       2286\n",
      "mail      2255\n",
      "would     2003\n",
      "like      1931\n",
      "messag    1849\n",
      "work      1800\n",
      "dtype: int64\n"
     ]
    }
   ],
   "source": [
    "print('Most Common words:',unique_words[:10])"
   ]
  },
  {
   "cell_type": "code",
   "execution_count": 38,
   "id": "e7a38f98",
   "metadata": {},
   "outputs": [
    {
     "name": "stdout",
     "output_type": "stream",
     "text": [
      "Total number of words in spam emails: 317502\n",
      "Total number of unique words in spam emails: 13242\n"
     ]
    }
   ],
   "source": [
    "flat_list_spam = [item for sublist in nested_list_spam for item in sublist]\n",
    "spam_words = pd.Series(flat_list_spam)\n",
    "unique_words = pd.Series(flat_list_spam).value_counts()\n",
    "\n",
    "print('Total number of words in spam emails:', spam_words.shape[0])\n",
    "print('Total number of unique words in spam emails:', unique_words.shape[0])"
   ]
  },
  {
   "cell_type": "code",
   "execution_count": 39,
   "id": "ba304aa2",
   "metadata": {},
   "outputs": [
    {
     "name": "stdout",
     "output_type": "stream",
     "text": [
      "Most Common words: http      3097\n",
      "email     3090\n",
      "free      2585\n",
      "click     2058\n",
      "receiv    1989\n",
      "list      1971\n",
      "get       1914\n",
      "pleas     1852\n",
      "busi      1792\n",
      "order     1746\n",
      "dtype: int64\n"
     ]
    }
   ],
   "source": [
    "print('Most Common words:',unique_words[:10])"
   ]
  },
  {
   "cell_type": "markdown",
   "id": "cfb402a8",
   "metadata": {},
   "source": [
    "### Word Clouds"
   ]
  },
  {
   "cell_type": "code",
   "execution_count": 40,
   "id": "d80ae756",
   "metadata": {
    "scrolled": false
   },
   "outputs": [
    {
     "data": {
      "image/png": "[encoded data removed]",
      "text/plain": [
       "<Figure size 1152x576 with 1 Axes>"
      ]
     },
     "metadata": {
      "needs_background": "light"
     },
     "output_type": "display_data"
    },
    {
     "name": "stdout",
     "output_type": "stream",
     "text": [
      "CPU times: user 17.5 s, sys: 406 ms, total: 17.9 s\n",
      "Wall time: 17.7 s\n"
     ]
    }
   ],
   "source": [
    "%%time\n",
    "\n",
    "img = Image.open(LIKE_FILE)\n",
    "img_mask = Image.new(mode='RGB', size=img.size, color=(255, 255, 255))\n",
    "img_mask.paste(img, box=img)\n",
    "\n",
    "rgb_array = np.array(img_mask)\n",
    "\n",
    "# Assuming flat_list_normal is a pre-processed list of words\n",
    "normal_str = ' '.join(flat_list_normal)\n",
    "\n",
    "# You can adjust the max_words parameter here to a suitable value\n",
    "word_cloud = WordCloud(mask=rgb_array, background_color='white',\n",
    "                      max_words=1000, colormap='ocean')\n",
    "\n",
    "# The generate function may still raise an error if normal_str is too long\n",
    "try:\n",
    "    word_cloud.generate(normal_str)\n",
    "except ValueError as e:\n",
    "    print(\"String too long, try reducing the number of words or splitting the string\")\n",
    "\n",
    "plt.figure(figsize=[16,8])\n",
    "plt.imshow(word_cloud, interpolation='bilinear')\n",
    "plt.axis('off')\n",
    "plt.show()"
   ]
  },
  {
   "cell_type": "code",
   "execution_count": 41,
   "id": "fc9fb3aa",
   "metadata": {},
   "outputs": [
    {
     "data": {
      "image/png": "[encoded data removed]",
      "text/plain": [
       "<Figure size 1152x576 with 1 Axes>"
      ]
     },
     "metadata": {
      "needs_background": "light"
     },
     "output_type": "display_data"
    },
    {
     "name": "stdout",
     "output_type": "stream",
     "text": [
      "CPU times: user 46 s, sys: 659 ms, total: 46.6 s\n",
      "Wall time: 46.1 s\n"
     ]
    }
   ],
   "source": [
    "%%time\n",
    "\n",
    "img = Image.open(UNLIKE_FILE)\n",
    "img_mask = Image.new(mode='RGB', size=img.size, color=(255, 255, 255))\n",
    "img_mask.paste(img, box=img)\n",
    "\n",
    "rgb_array = np.array(img_mask)\n",
    "\n",
    "# Assuming flat_list_normal is a pre-processed list of words\n",
    "spam_str = ' '.join(flat_list_spam)\n",
    "\n",
    "# You can adjust the max_words parameter here to a suitable value\n",
    "word_cloud = WordCloud(mask=rgb_array, background_color='white',\n",
    "                      max_words=2000, colormap='gist_heat',font_path=CUSTOM_FONT_FILE)\n",
    "\n",
    "# The generate function may still raise an error if normal_str is too long\n",
    "try:\n",
    "    word_cloud.generate(spam_str.upper())\n",
    "except ValueError as e:\n",
    "    print(\"String too long, try reducing the number of words or splitting the string\")\n",
    "\n",
    "plt.figure(figsize=[16,8])\n",
    "plt.imshow(word_cloud, interpolation='bilinear')\n",
    "plt.axis('off')\n",
    "plt.show()"
   ]
  },
  {
   "cell_type": "code",
   "execution_count": 42,
   "id": "d349a2d0",
   "metadata": {},
   "outputs": [
    {
     "name": "stderr",
     "output_type": "stream",
     "text": [
      "/var/folders/dw/g0x_cwzj4l97vv535grtx42w0000gn/T/ipykernel_1260/2575873531.py:3: MarkupResemblesLocatorWarning: The input looks more like a filename than markup. You may want to open this file and pass the filehandle into Beautiful Soup.\n",
      "  soup = BeautifulSoup(email,'html.parser')\n",
      "/var/folders/dw/g0x_cwzj4l97vv535grtx42w0000gn/T/ipykernel_1260/2575873531.py:3: MarkupResemblesLocatorWarning: The input looks more like a URL than markup. You may want to use an HTTP client like requests to get the document behind the URL, and feed that document to Beautiful Soup.\n",
      "  soup = BeautifulSoup(email,'html.parser')\n"
     ]
    }
   ],
   "source": [
    "stemmed_nested_list = df.MESSAGE.apply(clean_emails)\n",
    "flat_stemmed_list = [item for sublist in stemmed_nested_list for item in sublist]"
   ]
  },
  {
   "cell_type": "code",
   "execution_count": 43,
   "id": "a110bac0",
   "metadata": {},
   "outputs": [
    {
     "name": "stdout",
     "output_type": "stream",
     "text": [
      "Number of unique words 27334\n"
     ]
    },
    {
     "data": {
      "text/plain": [
       "http     10660\n",
       "use       5019\n",
       "list      4851\n",
       "email     4367\n",
       "get       4200\n",
       "dtype: int64"
      ]
     },
     "execution_count": 43,
     "metadata": {},
     "output_type": "execute_result"
    }
   ],
   "source": [
    "unique_words = pd.Series(flat_stemmed_list).value_counts()\n",
    "print('Number of unique words', unique_words.shape[0])\n",
    "unique_words.head()"
   ]
  },
  {
   "cell_type": "code",
   "execution_count": 44,
   "id": "fb031b63",
   "metadata": {},
   "outputs": [
    {
     "name": "stdout",
     "output_type": "stream",
     "text": [
      "Most common words: \n",
      " http     10660\n",
      "use       5019\n",
      "list      4851\n",
      "email     4367\n",
      "get       4200\n",
      "mail      3983\n",
      "one       3907\n",
      "free      3202\n",
      "time      3042\n",
      "work      2883\n",
      "dtype: int64\n"
     ]
    }
   ],
   "source": [
    "frequent_words = unique_words[0:VOCAB_SIZE]\n",
    "print(\"Most common words: \\n\", frequent_words[:10])"
   ]
  },
  {
   "cell_type": "code",
   "execution_count": 45,
   "id": "b4ed4587",
   "metadata": {},
   "outputs": [
    {
     "data": {
      "text/html": [
       "<div>\n",
       "<style scoped>\n",
       "    .dataframe tbody tr th:only-of-type {\n",
       "        vertical-align: middle;\n",
       "    }\n",
       "\n",
       "    .dataframe tbody tr th {\n",
       "        vertical-align: top;\n",
       "    }\n",
       "\n",
       "    .dataframe thead th {\n",
       "        text-align: right;\n",
       "    }\n",
       "</style>\n",
       "<table border=\"1\" class=\"dataframe\">\n",
       "  <thead>\n",
       "    <tr style=\"text-align: right;\">\n",
       "      <th></th>\n",
       "      <th>VOCAB_WORD</th>\n",
       "    </tr>\n",
       "    <tr>\n",
       "      <th>WORD_ID</th>\n",
       "      <th></th>\n",
       "    </tr>\n",
       "  </thead>\n",
       "  <tbody>\n",
       "    <tr>\n",
       "      <th>0</th>\n",
       "      <td>http</td>\n",
       "    </tr>\n",
       "    <tr>\n",
       "      <th>1</th>\n",
       "      <td>use</td>\n",
       "    </tr>\n",
       "    <tr>\n",
       "      <th>2</th>\n",
       "      <td>list</td>\n",
       "    </tr>\n",
       "    <tr>\n",
       "      <th>3</th>\n",
       "      <td>email</td>\n",
       "    </tr>\n",
       "    <tr>\n",
       "      <th>4</th>\n",
       "      <td>get</td>\n",
       "    </tr>\n",
       "  </tbody>\n",
       "</table>\n",
       "</div>"
      ],
      "text/plain": [
       "        VOCAB_WORD\n",
       "WORD_ID           \n",
       "0             http\n",
       "1              use\n",
       "2             list\n",
       "3            email\n",
       "4              get"
      ]
     },
     "execution_count": 45,
     "metadata": {},
     "output_type": "execute_result"
    }
   ],
   "source": [
    "word_ids = list(range(0, VOCAB_SIZE))\n",
    "vocab = pd.DataFrame({'VOCAB_WORD': frequent_words.index.values}, index=word_ids)\n",
    "vocab.index.name = 'WORD_ID'\n",
    "vocab.head()"
   ]
  },
  {
   "cell_type": "code",
   "execution_count": 46,
   "id": "dbf59dcf",
   "metadata": {},
   "outputs": [],
   "source": [
    "vocab.to_csv(WORD_ID_FILE, index_label=vocab.index.name, header=vocab.VOCAB_WORD.name)"
   ]
  },
  {
   "cell_type": "code",
   "execution_count": 47,
   "id": "7dc5a855",
   "metadata": {},
   "outputs": [
    {
     "data": {
      "text/html": [
       "<div>\n",
       "<style scoped>\n",
       "    .dataframe tbody tr th:only-of-type {\n",
       "        vertical-align: middle;\n",
       "    }\n",
       "\n",
       "    .dataframe tbody tr th {\n",
       "        vertical-align: top;\n",
       "    }\n",
       "\n",
       "    .dataframe thead th {\n",
       "        text-align: right;\n",
       "    }\n",
       "</style>\n",
       "<table border=\"1\" class=\"dataframe\">\n",
       "  <thead>\n",
       "    <tr style=\"text-align: right;\">\n",
       "      <th></th>\n",
       "      <th>0</th>\n",
       "      <th>1</th>\n",
       "      <th>2</th>\n",
       "      <th>3</th>\n",
       "      <th>4</th>\n",
       "      <th>5</th>\n",
       "      <th>6</th>\n",
       "      <th>7</th>\n",
       "      <th>8</th>\n",
       "      <th>9</th>\n",
       "      <th>...</th>\n",
       "      <th>7661</th>\n",
       "      <th>7662</th>\n",
       "      <th>7663</th>\n",
       "      <th>7664</th>\n",
       "      <th>7665</th>\n",
       "      <th>7666</th>\n",
       "      <th>7667</th>\n",
       "      <th>7668</th>\n",
       "      <th>7669</th>\n",
       "      <th>7670</th>\n",
       "    </tr>\n",
       "  </thead>\n",
       "  <tbody>\n",
       "    <tr>\n",
       "      <th>0</th>\n",
       "      <td>dear</td>\n",
       "      <td>homeown</td>\n",
       "      <td>interest</td>\n",
       "      <td>rate</td>\n",
       "      <td>lowest</td>\n",
       "      <td>point</td>\n",
       "      <td>year</td>\n",
       "      <td>help</td>\n",
       "      <td>find</td>\n",
       "      <td>best</td>\n",
       "      <td>...</td>\n",
       "      <td>None</td>\n",
       "      <td>None</td>\n",
       "      <td>None</td>\n",
       "      <td>None</td>\n",
       "      <td>None</td>\n",
       "      <td>None</td>\n",
       "      <td>None</td>\n",
       "      <td>None</td>\n",
       "      <td>None</td>\n",
       "      <td>None</td>\n",
       "    </tr>\n",
       "    <tr>\n",
       "      <th>1</th>\n",
       "      <td>attent</td>\n",
       "      <td>must</td>\n",
       "      <td>comput</td>\n",
       "      <td>user</td>\n",
       "      <td>packag</td>\n",
       "      <td>deal</td>\n",
       "      <td>norton</td>\n",
       "      <td>systemwork</td>\n",
       "      <td>softwar</td>\n",
       "      <td>suit</td>\n",
       "      <td>...</td>\n",
       "      <td>None</td>\n",
       "      <td>None</td>\n",
       "      <td>None</td>\n",
       "      <td>None</td>\n",
       "      <td>None</td>\n",
       "      <td>None</td>\n",
       "      <td>None</td>\n",
       "      <td>None</td>\n",
       "      <td>None</td>\n",
       "      <td>None</td>\n",
       "    </tr>\n",
       "    <tr>\n",
       "      <th>2</th>\n",
       "      <td>messag</td>\n",
       "      <td>mime</td>\n",
       "      <td>format</td>\n",
       "      <td>dare</td>\n",
       "      <td>tri</td>\n",
       "      <td>find</td>\n",
       "      <td>better</td>\n",
       "      <td>annuiti</td>\n",
       "      <td>guarante</td>\n",
       "      <td>year</td>\n",
       "      <td>...</td>\n",
       "      <td>None</td>\n",
       "      <td>None</td>\n",
       "      <td>None</td>\n",
       "      <td>None</td>\n",
       "      <td>None</td>\n",
       "      <td>None</td>\n",
       "      <td>None</td>\n",
       "      <td>None</td>\n",
       "      <td>None</td>\n",
       "      <td>None</td>\n",
       "    </tr>\n",
       "    <tr>\n",
       "      <th>3</th>\n",
       "      <td>import</td>\n",
       "      <td>inform</td>\n",
       "      <td>new</td>\n",
       "      <td>domain</td>\n",
       "      <td>name</td>\n",
       "      <td>final</td>\n",
       "      <td>avail</td>\n",
       "      <td>gener</td>\n",
       "      <td>public</td>\n",
       "      <td>discount</td>\n",
       "      <td>...</td>\n",
       "      <td>None</td>\n",
       "      <td>None</td>\n",
       "      <td>None</td>\n",
       "      <td>None</td>\n",
       "      <td>None</td>\n",
       "      <td>None</td>\n",
       "      <td>None</td>\n",
       "      <td>None</td>\n",
       "      <td>None</td>\n",
       "      <td>None</td>\n",
       "    </tr>\n",
       "    <tr>\n",
       "      <th>4</th>\n",
       "      <td>bottom</td>\n",
       "      <td>line</td>\n",
       "      <td>give</td>\n",
       "      <td>away</td>\n",
       "      <td>cd</td>\n",
       "      <td>free</td>\n",
       "      <td>peopl</td>\n",
       "      <td>like</td>\n",
       "      <td>one</td>\n",
       "      <td>month</td>\n",
       "      <td>...</td>\n",
       "      <td>None</td>\n",
       "      <td>None</td>\n",
       "      <td>None</td>\n",
       "      <td>None</td>\n",
       "      <td>None</td>\n",
       "      <td>None</td>\n",
       "      <td>None</td>\n",
       "      <td>None</td>\n",
       "      <td>None</td>\n",
       "      <td>None</td>\n",
       "    </tr>\n",
       "  </tbody>\n",
       "</table>\n",
       "<p>5 rows × 7671 columns</p>\n",
       "</div>"
      ],
      "text/plain": [
       "     0        1         2       3       4      5       6           7     \\\n",
       "0    dear  homeown  interest    rate  lowest  point    year        help   \n",
       "1  attent     must    comput    user  packag   deal  norton  systemwork   \n",
       "2  messag     mime    format    dare     tri   find  better     annuiti   \n",
       "3  import   inform       new  domain    name  final   avail       gener   \n",
       "4  bottom     line      give    away      cd   free   peopl        like   \n",
       "\n",
       "       8         9     ...  7661  7662  7663  7664  7665  7666  7667  7668  \\\n",
       "0      find      best  ...  None  None  None  None  None  None  None  None   \n",
       "1   softwar      suit  ...  None  None  None  None  None  None  None  None   \n",
       "2  guarante      year  ...  None  None  None  None  None  None  None  None   \n",
       "3    public  discount  ...  None  None  None  None  None  None  None  None   \n",
       "4       one     month  ...  None  None  None  None  None  None  None  None   \n",
       "\n",
       "   7669  7670  \n",
       "0  None  None  \n",
       "1  None  None  \n",
       "2  None  None  \n",
       "3  None  None  \n",
       "4  None  None  \n",
       "\n",
       "[5 rows x 7671 columns]"
      ]
     },
     "execution_count": 47,
     "metadata": {},
     "output_type": "execute_result"
    }
   ],
   "source": [
    "df_word_columns = pd.DataFrame.from_records(stemmed_nested_list.tolist())\n",
    "df_word_columns.head()"
   ]
  },
  {
   "cell_type": "markdown",
   "id": "d6404b54",
   "metadata": {},
   "source": [
    "## Train-Test split"
   ]
  },
  {
   "cell_type": "code",
   "execution_count": 48,
   "id": "b89afa74",
   "metadata": {},
   "outputs": [],
   "source": [
    "X_train, X_test, y_train, y_test = train_test_split(df_word_columns, df.CATEGORY,\n",
    "                                                   test_size=0.3, random_state=42)"
   ]
  },
  {
   "cell_type": "code",
   "execution_count": 49,
   "id": "30709fc6",
   "metadata": {},
   "outputs": [
    {
     "name": "stdout",
     "output_type": "stream",
     "text": [
      "Number of training samples 4057\n",
      "Percentage of training set 70.0 %\n"
     ]
    }
   ],
   "source": [
    "print(\"Number of training samples\", X_train.shape[0])\n",
    "print(\"Percentage of training set\", np.round((X_train.shape[0] / df_word_columns.shape[0]) * 100),\"%\")"
   ]
  },
  {
   "cell_type": "code",
   "execution_count": 50,
   "id": "42e0fba5",
   "metadata": {},
   "outputs": [
    {
     "data": {
      "text/html": [
       "<div>\n",
       "<style scoped>\n",
       "    .dataframe tbody tr th:only-of-type {\n",
       "        vertical-align: middle;\n",
       "    }\n",
       "\n",
       "    .dataframe tbody tr th {\n",
       "        vertical-align: top;\n",
       "    }\n",
       "\n",
       "    .dataframe thead th {\n",
       "        text-align: right;\n",
       "    }\n",
       "</style>\n",
       "<table border=\"1\" class=\"dataframe\">\n",
       "  <thead>\n",
       "    <tr style=\"text-align: right;\">\n",
       "      <th></th>\n",
       "      <th>0</th>\n",
       "      <th>1</th>\n",
       "      <th>2</th>\n",
       "      <th>3</th>\n",
       "      <th>4</th>\n",
       "      <th>5</th>\n",
       "      <th>6</th>\n",
       "      <th>7</th>\n",
       "      <th>8</th>\n",
       "      <th>9</th>\n",
       "      <th>...</th>\n",
       "      <th>7661</th>\n",
       "      <th>7662</th>\n",
       "      <th>7663</th>\n",
       "      <th>7664</th>\n",
       "      <th>7665</th>\n",
       "      <th>7666</th>\n",
       "      <th>7667</th>\n",
       "      <th>7668</th>\n",
       "      <th>7669</th>\n",
       "      <th>7670</th>\n",
       "    </tr>\n",
       "    <tr>\n",
       "      <th>DOC_ID</th>\n",
       "      <th></th>\n",
       "      <th></th>\n",
       "      <th></th>\n",
       "      <th></th>\n",
       "      <th></th>\n",
       "      <th></th>\n",
       "      <th></th>\n",
       "      <th></th>\n",
       "      <th></th>\n",
       "      <th></th>\n",
       "      <th></th>\n",
       "      <th></th>\n",
       "      <th></th>\n",
       "      <th></th>\n",
       "      <th></th>\n",
       "      <th></th>\n",
       "      <th></th>\n",
       "      <th></th>\n",
       "      <th></th>\n",
       "      <th></th>\n",
       "      <th></th>\n",
       "    </tr>\n",
       "  </thead>\n",
       "  <tbody>\n",
       "    <tr>\n",
       "      <th>4844</th>\n",
       "      <td>thu</td>\n",
       "      <td>jul</td>\n",
       "      <td>rodent</td>\n",
       "      <td>unusu</td>\n",
       "      <td>size</td>\n",
       "      <td>wrote</td>\n",
       "      <td>appli</td>\n",
       "      <td>one</td>\n",
       "      <td>three</td>\n",
       "      <td>order</td>\n",
       "      <td>...</td>\n",
       "      <td>None</td>\n",
       "      <td>None</td>\n",
       "      <td>None</td>\n",
       "      <td>None</td>\n",
       "      <td>None</td>\n",
       "      <td>None</td>\n",
       "      <td>None</td>\n",
       "      <td>None</td>\n",
       "      <td>None</td>\n",
       "      <td>None</td>\n",
       "    </tr>\n",
       "    <tr>\n",
       "      <th>4727</th>\n",
       "      <td>well</td>\n",
       "      <td>would</td>\n",
       "      <td>vaniti</td>\n",
       "      <td>list</td>\n",
       "      <td>forward</td>\n",
       "      <td>least</td>\n",
       "      <td>littl</td>\n",
       "      <td>pure</td>\n",
       "      <td>data</td>\n",
       "      <td>week</td>\n",
       "      <td>...</td>\n",
       "      <td>None</td>\n",
       "      <td>None</td>\n",
       "      <td>None</td>\n",
       "      <td>None</td>\n",
       "      <td>None</td>\n",
       "      <td>None</td>\n",
       "      <td>None</td>\n",
       "      <td>None</td>\n",
       "      <td>None</td>\n",
       "      <td>None</td>\n",
       "    </tr>\n",
       "    <tr>\n",
       "      <th>5022</th>\n",
       "      <td>world</td>\n",
       "      <td>wide</td>\n",
       "      <td>word</td>\n",
       "      <td>issu</td>\n",
       "      <td>saturday</td>\n",
       "      <td>august</td>\n",
       "      <td>sent</td>\n",
       "      <td>saturday</td>\n",
       "      <td>subscrib</td>\n",
       "      <td>least</td>\n",
       "      <td>...</td>\n",
       "      <td>None</td>\n",
       "      <td>None</td>\n",
       "      <td>None</td>\n",
       "      <td>None</td>\n",
       "      <td>None</td>\n",
       "      <td>None</td>\n",
       "      <td>None</td>\n",
       "      <td>None</td>\n",
       "      <td>None</td>\n",
       "      <td>None</td>\n",
       "    </tr>\n",
       "    <tr>\n",
       "      <th>3504</th>\n",
       "      <td>believ</td>\n",
       "      <td>spamassassin</td>\n",
       "      <td>maintain</td>\n",
       "      <td>scheme</td>\n",
       "      <td>wherebi</td>\n",
       "      <td>corpu</td>\n",
       "      <td>distribut</td>\n",
       "      <td>ie</td>\n",
       "      <td>sever</td>\n",
       "      <td>peopl</td>\n",
       "      <td>...</td>\n",
       "      <td>None</td>\n",
       "      <td>None</td>\n",
       "      <td>None</td>\n",
       "      <td>None</td>\n",
       "      <td>None</td>\n",
       "      <td>None</td>\n",
       "      <td>None</td>\n",
       "      <td>None</td>\n",
       "      <td>None</td>\n",
       "      <td>None</td>\n",
       "    </tr>\n",
       "    <tr>\n",
       "      <th>3921</th>\n",
       "      <td>sorri</td>\n",
       "      <td>think</td>\n",
       "      <td>send</td>\n",
       "      <td>realiz</td>\n",
       "      <td>list</td>\n",
       "      <td>sender</td>\n",
       "      <td>usual</td>\n",
       "      <td>anyawi</td>\n",
       "      <td>ask</td>\n",
       "      <td>harri</td>\n",
       "      <td>...</td>\n",
       "      <td>None</td>\n",
       "      <td>None</td>\n",
       "      <td>None</td>\n",
       "      <td>None</td>\n",
       "      <td>None</td>\n",
       "      <td>None</td>\n",
       "      <td>None</td>\n",
       "      <td>None</td>\n",
       "      <td>None</td>\n",
       "      <td>None</td>\n",
       "    </tr>\n",
       "  </tbody>\n",
       "</table>\n",
       "<p>5 rows × 7671 columns</p>\n",
       "</div>"
      ],
      "text/plain": [
       "          0             1         2       3         4       5          6     \\\n",
       "DOC_ID                                                                        \n",
       "4844       thu           jul    rodent   unusu      size   wrote      appli   \n",
       "4727      well         would    vaniti    list   forward   least      littl   \n",
       "5022     world          wide      word    issu  saturday  august       sent   \n",
       "3504    believ  spamassassin  maintain  scheme   wherebi   corpu  distribut   \n",
       "3921     sorri         think      send  realiz      list  sender      usual   \n",
       "\n",
       "            7         8      9     ...  7661  7662  7663  7664  7665  7666  \\\n",
       "DOC_ID                             ...                                       \n",
       "4844         one     three  order  ...  None  None  None  None  None  None   \n",
       "4727        pure      data   week  ...  None  None  None  None  None  None   \n",
       "5022    saturday  subscrib  least  ...  None  None  None  None  None  None   \n",
       "3504          ie     sever  peopl  ...  None  None  None  None  None  None   \n",
       "3921      anyawi       ask  harri  ...  None  None  None  None  None  None   \n",
       "\n",
       "        7667  7668  7669  7670  \n",
       "DOC_ID                          \n",
       "4844    None  None  None  None  \n",
       "4727    None  None  None  None  \n",
       "5022    None  None  None  None  \n",
       "3504    None  None  None  None  \n",
       "3921    None  None  None  None  \n",
       "\n",
       "[5 rows x 7671 columns]"
      ]
     },
     "execution_count": 50,
     "metadata": {},
     "output_type": "execute_result"
    }
   ],
   "source": [
    "X_train.index.name = X_test.index.name = 'DOC_ID'\n",
    "X_train.head()"
   ]
  },
  {
   "cell_type": "code",
   "execution_count": 53,
   "id": "632ad8d3",
   "metadata": {},
   "outputs": [],
   "source": [
    "word_index = pd.Index(vocab.VOCAB_WORD)"
   ]
  },
  {
   "cell_type": "code",
   "execution_count": 54,
   "id": "6a7cd5ee",
   "metadata": {},
   "outputs": [],
   "source": [
    "def make_sparse_matrix(df, indexed_words, labels):\n",
    "    \n",
    "    nr_rows = df.shape[0]\n",
    "    nr_col = df.shape[1]\n",
    "    word_set = set(indexed_words)\n",
    "    dict_list = []\n",
    "    \n",
    "    for i in range(nr_rows):\n",
    "        for j in range(nr_col):\n",
    "            \n",
    "            word = df.iat[i, j]\n",
    "            if word in word_set:\n",
    "                doc_id = df.index[i]\n",
    "                word_id = indexed_words.get_loc(word)\n",
    "                category = labels.at[doc_id]\n",
    "                \n",
    "                item = {'LABEL': category, 'DOC_ID': doc_id,\n",
    "                       'OCCURENCE': 1, 'WORD_ID': word_id}\n",
    "            \n",
    "                dict_list.append(item)\n",
    "            \n",
    "    return pd.DataFrame(dict_list)\n",
    "    \n",
    "    "
   ]
  },
  {
   "cell_type": "code",
   "execution_count": 55,
   "id": "5f34959a",
   "metadata": {},
   "outputs": [
    {
     "name": "stdout",
     "output_type": "stream",
     "text": [
      "CPU times: user 6min 51s, sys: 2.44 s, total: 6min 54s\n",
      "Wall time: 6min 56s\n"
     ]
    }
   ],
   "source": [
    "%%time \n",
    "\n",
    "sparse_train_df = make_sparse_matrix(X_train, word_index, y_train)"
   ]
  },
  {
   "cell_type": "code",
   "execution_count": 56,
   "id": "6cafb877",
   "metadata": {},
   "outputs": [
    {
     "data": {
      "text/html": [
       "<div>\n",
       "<style scoped>\n",
       "    .dataframe tbody tr th:only-of-type {\n",
       "        vertical-align: middle;\n",
       "    }\n",
       "\n",
       "    .dataframe tbody tr th {\n",
       "        vertical-align: top;\n",
       "    }\n",
       "\n",
       "    .dataframe thead th {\n",
       "        text-align: right;\n",
       "    }\n",
       "</style>\n",
       "<table border=\"1\" class=\"dataframe\">\n",
       "  <thead>\n",
       "    <tr style=\"text-align: right;\">\n",
       "      <th></th>\n",
       "      <th>LABEL</th>\n",
       "      <th>DOC_ID</th>\n",
       "      <th>OCCURENCE</th>\n",
       "      <th>WORD_ID</th>\n",
       "    </tr>\n",
       "  </thead>\n",
       "  <tbody>\n",
       "    <tr>\n",
       "      <th>0</th>\n",
       "      <td>0</td>\n",
       "      <td>4844</td>\n",
       "      <td>1</td>\n",
       "      <td>393</td>\n",
       "    </tr>\n",
       "    <tr>\n",
       "      <th>1</th>\n",
       "      <td>0</td>\n",
       "      <td>4844</td>\n",
       "      <td>1</td>\n",
       "      <td>492</td>\n",
       "    </tr>\n",
       "    <tr>\n",
       "      <th>2</th>\n",
       "      <td>0</td>\n",
       "      <td>4844</td>\n",
       "      <td>1</td>\n",
       "      <td>2371</td>\n",
       "    </tr>\n",
       "    <tr>\n",
       "      <th>3</th>\n",
       "      <td>0</td>\n",
       "      <td>4844</td>\n",
       "      <td>1</td>\n",
       "      <td>497</td>\n",
       "    </tr>\n",
       "    <tr>\n",
       "      <th>4</th>\n",
       "      <td>0</td>\n",
       "      <td>4844</td>\n",
       "      <td>1</td>\n",
       "      <td>37</td>\n",
       "    </tr>\n",
       "  </tbody>\n",
       "</table>\n",
       "</div>"
      ],
      "text/plain": [
       "   LABEL  DOC_ID  OCCURENCE  WORD_ID\n",
       "0      0    4844          1      393\n",
       "1      0    4844          1      492\n",
       "2      0    4844          1     2371\n",
       "3      0    4844          1      497\n",
       "4      0    4844          1       37"
      ]
     },
     "execution_count": 56,
     "metadata": {},
     "output_type": "execute_result"
    }
   ],
   "source": [
    "sparse_train_df[:5]"
   ]
  },
  {
   "cell_type": "code",
   "execution_count": 57,
   "id": "5d099615",
   "metadata": {},
   "outputs": [
    {
     "data": {
      "text/plain": [
       "(444950, 4)"
      ]
     },
     "execution_count": 57,
     "metadata": {},
     "output_type": "execute_result"
    }
   ],
   "source": [
    "sparse_train_df.shape"
   ]
  },
  {
   "cell_type": "code",
   "execution_count": 58,
   "id": "e4b297db",
   "metadata": {},
   "outputs": [
    {
     "data": {
      "text/html": [
       "<div>\n",
       "<style scoped>\n",
       "    .dataframe tbody tr th:only-of-type {\n",
       "        vertical-align: middle;\n",
       "    }\n",
       "\n",
       "    .dataframe tbody tr th {\n",
       "        vertical-align: top;\n",
       "    }\n",
       "\n",
       "    .dataframe thead th {\n",
       "        text-align: right;\n",
       "    }\n",
       "</style>\n",
       "<table border=\"1\" class=\"dataframe\">\n",
       "  <thead>\n",
       "    <tr style=\"text-align: right;\">\n",
       "      <th></th>\n",
       "      <th>LABEL</th>\n",
       "      <th>DOC_ID</th>\n",
       "      <th>OCCURENCE</th>\n",
       "      <th>WORD_ID</th>\n",
       "    </tr>\n",
       "  </thead>\n",
       "  <tbody>\n",
       "    <tr>\n",
       "      <th>444945</th>\n",
       "      <td>1</td>\n",
       "      <td>860</td>\n",
       "      <td>1</td>\n",
       "      <td>126</td>\n",
       "    </tr>\n",
       "    <tr>\n",
       "      <th>444946</th>\n",
       "      <td>1</td>\n",
       "      <td>860</td>\n",
       "      <td>1</td>\n",
       "      <td>644</td>\n",
       "    </tr>\n",
       "    <tr>\n",
       "      <th>444947</th>\n",
       "      <td>1</td>\n",
       "      <td>860</td>\n",
       "      <td>1</td>\n",
       "      <td>515</td>\n",
       "    </tr>\n",
       "    <tr>\n",
       "      <th>444948</th>\n",
       "      <td>1</td>\n",
       "      <td>860</td>\n",
       "      <td>1</td>\n",
       "      <td>1388</td>\n",
       "    </tr>\n",
       "    <tr>\n",
       "      <th>444949</th>\n",
       "      <td>1</td>\n",
       "      <td>860</td>\n",
       "      <td>1</td>\n",
       "      <td>1074</td>\n",
       "    </tr>\n",
       "  </tbody>\n",
       "</table>\n",
       "</div>"
      ],
      "text/plain": [
       "        LABEL  DOC_ID  OCCURENCE  WORD_ID\n",
       "444945      1     860          1      126\n",
       "444946      1     860          1      644\n",
       "444947      1     860          1      515\n",
       "444948      1     860          1     1388\n",
       "444949      1     860          1     1074"
      ]
     },
     "execution_count": 58,
     "metadata": {},
     "output_type": "execute_result"
    }
   ],
   "source": [
    "sparse_train_df.tail()"
   ]
  },
  {
   "cell_type": "code",
   "execution_count": 59,
   "id": "152ca85f",
   "metadata": {},
   "outputs": [
    {
     "data": {
      "text/html": [
       "<div>\n",
       "<style scoped>\n",
       "    .dataframe tbody tr th:only-of-type {\n",
       "        vertical-align: middle;\n",
       "    }\n",
       "\n",
       "    .dataframe tbody tr th {\n",
       "        vertical-align: top;\n",
       "    }\n",
       "\n",
       "    .dataframe thead th {\n",
       "        text-align: right;\n",
       "    }\n",
       "</style>\n",
       "<table border=\"1\" class=\"dataframe\">\n",
       "  <thead>\n",
       "    <tr style=\"text-align: right;\">\n",
       "      <th></th>\n",
       "      <th></th>\n",
       "      <th></th>\n",
       "      <th>OCCURENCE</th>\n",
       "    </tr>\n",
       "    <tr>\n",
       "      <th>DOC_ID</th>\n",
       "      <th>WORD_ID</th>\n",
       "      <th>LABEL</th>\n",
       "      <th></th>\n",
       "    </tr>\n",
       "  </thead>\n",
       "  <tbody>\n",
       "    <tr>\n",
       "      <th rowspan=\"5\" valign=\"top\">0</th>\n",
       "      <th>0</th>\n",
       "      <th>1</th>\n",
       "      <td>2</td>\n",
       "    </tr>\n",
       "    <tr>\n",
       "      <th>7</th>\n",
       "      <th>1</th>\n",
       "      <td>1</td>\n",
       "    </tr>\n",
       "    <tr>\n",
       "      <th>16</th>\n",
       "      <th>1</th>\n",
       "      <td>1</td>\n",
       "    </tr>\n",
       "    <tr>\n",
       "      <th>18</th>\n",
       "      <th>1</th>\n",
       "      <td>1</td>\n",
       "    </tr>\n",
       "    <tr>\n",
       "      <th>24</th>\n",
       "      <th>1</th>\n",
       "      <td>1</td>\n",
       "    </tr>\n",
       "  </tbody>\n",
       "</table>\n",
       "</div>"
      ],
      "text/plain": [
       "                      OCCURENCE\n",
       "DOC_ID WORD_ID LABEL           \n",
       "0      0       1              2\n",
       "       7       1              1\n",
       "       16      1              1\n",
       "       18      1              1\n",
       "       24      1              1"
      ]
     },
     "execution_count": 59,
     "metadata": {},
     "output_type": "execute_result"
    }
   ],
   "source": [
    "train_grouped = sparse_train_df.groupby(['DOC_ID', 'WORD_ID','LABEL']).sum()\n",
    "train_grouped.head()"
   ]
  },
  {
   "cell_type": "code",
   "execution_count": 60,
   "id": "aa0c9ce1",
   "metadata": {},
   "outputs": [],
   "source": [
    "train_grouped = train_grouped.reset_index()"
   ]
  },
  {
   "cell_type": "code",
   "execution_count": 61,
   "id": "bf80d5c1",
   "metadata": {},
   "outputs": [
    {
     "data": {
      "text/plain": [
       "(265555, 4)"
      ]
     },
     "execution_count": 61,
     "metadata": {},
     "output_type": "execute_result"
    }
   ],
   "source": [
    "train_grouped.shape"
   ]
  },
  {
   "cell_type": "code",
   "execution_count": 63,
   "id": "3d2a1c0e",
   "metadata": {},
   "outputs": [],
   "source": [
    "np.savetxt(TRAINING_DATA_FILE, train_grouped, fmt='%d')"
   ]
  },
  {
   "cell_type": "code",
   "execution_count": 65,
   "id": "625efed7",
   "metadata": {},
   "outputs": [
    {
     "name": "stdout",
     "output_type": "stream",
     "text": [
      "CPU times: user 3min 1s, sys: 663 ms, total: 3min 2s\n",
      "Wall time: 3min 2s\n"
     ]
    }
   ],
   "source": [
    "%%time \n",
    "\n",
    "sparse_test_df = make_sparse_matrix(X_test, word_index, y_test)"
   ]
  },
  {
   "cell_type": "code",
   "execution_count": 66,
   "id": "cacd4de4",
   "metadata": {},
   "outputs": [
    {
     "data": {
      "text/plain": [
       "(187657, 4)"
      ]
     },
     "execution_count": 66,
     "metadata": {},
     "output_type": "execute_result"
    }
   ],
   "source": [
    "sparse_test_df.shape"
   ]
  },
  {
   "cell_type": "code",
   "execution_count": 68,
   "id": "af849b20",
   "metadata": {},
   "outputs": [
    {
     "data": {
      "text/html": [
       "<div>\n",
       "<style scoped>\n",
       "    .dataframe tbody tr th:only-of-type {\n",
       "        vertical-align: middle;\n",
       "    }\n",
       "\n",
       "    .dataframe tbody tr th {\n",
       "        vertical-align: top;\n",
       "    }\n",
       "\n",
       "    .dataframe thead th {\n",
       "        text-align: right;\n",
       "    }\n",
       "</style>\n",
       "<table border=\"1\" class=\"dataframe\">\n",
       "  <thead>\n",
       "    <tr style=\"text-align: right;\">\n",
       "      <th></th>\n",
       "      <th>DOC_ID</th>\n",
       "      <th>WORD_ID</th>\n",
       "      <th>LABEL</th>\n",
       "      <th>OCCURENCE</th>\n",
       "    </tr>\n",
       "  </thead>\n",
       "  <tbody>\n",
       "    <tr>\n",
       "      <th>0</th>\n",
       "      <td>8</td>\n",
       "      <td>7</td>\n",
       "      <td>1</td>\n",
       "      <td>1</td>\n",
       "    </tr>\n",
       "    <tr>\n",
       "      <th>1</th>\n",
       "      <td>8</td>\n",
       "      <td>8</td>\n",
       "      <td>1</td>\n",
       "      <td>1</td>\n",
       "    </tr>\n",
       "    <tr>\n",
       "      <th>2</th>\n",
       "      <td>8</td>\n",
       "      <td>12</td>\n",
       "      <td>1</td>\n",
       "      <td>1</td>\n",
       "    </tr>\n",
       "    <tr>\n",
       "      <th>3</th>\n",
       "      <td>8</td>\n",
       "      <td>21</td>\n",
       "      <td>1</td>\n",
       "      <td>2</td>\n",
       "    </tr>\n",
       "    <tr>\n",
       "      <th>4</th>\n",
       "      <td>8</td>\n",
       "      <td>26</td>\n",
       "      <td>1</td>\n",
       "      <td>1</td>\n",
       "    </tr>\n",
       "  </tbody>\n",
       "</table>\n",
       "</div>"
      ],
      "text/plain": [
       "   DOC_ID  WORD_ID  LABEL  OCCURENCE\n",
       "0       8        7      1          1\n",
       "1       8        8      1          1\n",
       "2       8       12      1          1\n",
       "3       8       21      1          2\n",
       "4       8       26      1          1"
      ]
     },
     "execution_count": 68,
     "metadata": {},
     "output_type": "execute_result"
    }
   ],
   "source": [
    "test_grouped = sparse_test_df.groupby(['DOC_ID', 'WORD_ID','LABEL']).sum().reset_index()\n",
    "test_grouped.head()"
   ]
  },
  {
   "cell_type": "code",
   "execution_count": 69,
   "id": "0b8d028a",
   "metadata": {},
   "outputs": [],
   "source": [
    "np.savetxt(TESTING_DATA_FILE, test_grouped, fmt='%d')"
   ]
  },
  {
   "cell_type": "markdown",
   "id": "92f4de1a",
   "metadata": {},
   "source": [
    "## Creating a Sparse Matrix and a Full Matrix"
   ]
  },
  {
   "cell_type": "code",
   "execution_count": 78,
   "id": "6cf0aaed",
   "metadata": {},
   "outputs": [],
   "source": [
    "sparse_train_data = np.loadtxt(TRAINING_DATA_FILE, delimiter=' ', dtype=int)"
   ]
  },
  {
   "cell_type": "code",
   "execution_count": 77,
   "id": "e5c4c881",
   "metadata": {},
   "outputs": [],
   "source": [
    "sparse_test_data = np.loadtxt(TESTING_DATA_FILE, delimiter=' ', dtype=int)"
   ]
  },
  {
   "cell_type": "code",
   "execution_count": 81,
   "id": "e2339221",
   "metadata": {},
   "outputs": [
    {
     "data": {
      "text/plain": [
       "array([[5795, 1846,    0,    1],\n",
       "       [5795, 1897,    0,    2],\n",
       "       [5795, 2124,    0,    1],\n",
       "       [5795, 2278,    0,    1],\n",
       "       [5795, 2457,    0,    1]])"
      ]
     },
     "execution_count": 81,
     "metadata": {},
     "output_type": "execute_result"
    }
   ],
   "source": [
    "sparse_train_data[-5:]"
   ]
  },
  {
   "cell_type": "code",
   "execution_count": 83,
   "id": "f5deb069",
   "metadata": {},
   "outputs": [
    {
     "name": "stdout",
     "output_type": "stream",
     "text": [
      "Number of rows in training file 265555\n",
      "Number of rows in test file 110579\n"
     ]
    }
   ],
   "source": [
    "print(\"Number of rows in training file\", sparse_train_data.shape[0])\n",
    "print(\"Number of rows in test file\", sparse_test_data.shape[0])"
   ]
  },
  {
   "cell_type": "code",
   "execution_count": 84,
   "id": "c3c385c7",
   "metadata": {},
   "outputs": [
    {
     "data": {
      "text/plain": [
       "['DOC_ID', 'CATEGORY', 0, 1, 2]"
      ]
     },
     "execution_count": 84,
     "metadata": {},
     "output_type": "execute_result"
    }
   ],
   "source": [
    "column_names = ['DOC_ID'] + ['CATEGORY'] + list(range(0,VOCAB_SIZE))\n",
    "column_names[:5]"
   ]
  },
  {
   "cell_type": "code",
   "execution_count": 86,
   "id": "f5d42b69",
   "metadata": {},
   "outputs": [
    {
     "data": {
      "text/plain": [
       "2502"
      ]
     },
     "execution_count": 86,
     "metadata": {},
     "output_type": "execute_result"
    }
   ],
   "source": [
    "len(column_names)"
   ]
  },
  {
   "cell_type": "code",
   "execution_count": 87,
   "id": "a17c5dec",
   "metadata": {},
   "outputs": [
    {
     "data": {
      "text/plain": [
       "array([   0,    1,    2, ..., 5791, 5794, 5795])"
      ]
     },
     "execution_count": 87,
     "metadata": {},
     "output_type": "execute_result"
    }
   ],
   "source": [
    "index_names = np.unique(sparse_train_data[:,0])\n",
    "index_names"
   ]
  },
  {
   "cell_type": "code",
   "execution_count": 88,
   "id": "3d032e61",
   "metadata": {},
   "outputs": [
    {
     "data": {
      "text/html": [
       "<div>\n",
       "<style scoped>\n",
       "    .dataframe tbody tr th:only-of-type {\n",
       "        vertical-align: middle;\n",
       "    }\n",
       "\n",
       "    .dataframe tbody tr th {\n",
       "        vertical-align: top;\n",
       "    }\n",
       "\n",
       "    .dataframe thead th {\n",
       "        text-align: right;\n",
       "    }\n",
       "</style>\n",
       "<table border=\"1\" class=\"dataframe\">\n",
       "  <thead>\n",
       "    <tr style=\"text-align: right;\">\n",
       "      <th></th>\n",
       "      <th>DOC_ID</th>\n",
       "      <th>CATEGORY</th>\n",
       "      <th>0</th>\n",
       "      <th>1</th>\n",
       "      <th>2</th>\n",
       "      <th>3</th>\n",
       "      <th>4</th>\n",
       "      <th>5</th>\n",
       "      <th>6</th>\n",
       "      <th>7</th>\n",
       "      <th>...</th>\n",
       "      <th>2490</th>\n",
       "      <th>2491</th>\n",
       "      <th>2492</th>\n",
       "      <th>2493</th>\n",
       "      <th>2494</th>\n",
       "      <th>2495</th>\n",
       "      <th>2496</th>\n",
       "      <th>2497</th>\n",
       "      <th>2498</th>\n",
       "      <th>2499</th>\n",
       "    </tr>\n",
       "  </thead>\n",
       "  <tbody>\n",
       "    <tr>\n",
       "      <th>0</th>\n",
       "      <td>NaN</td>\n",
       "      <td>NaN</td>\n",
       "      <td>NaN</td>\n",
       "      <td>NaN</td>\n",
       "      <td>NaN</td>\n",
       "      <td>NaN</td>\n",
       "      <td>NaN</td>\n",
       "      <td>NaN</td>\n",
       "      <td>NaN</td>\n",
       "      <td>NaN</td>\n",
       "      <td>...</td>\n",
       "      <td>NaN</td>\n",
       "      <td>NaN</td>\n",
       "      <td>NaN</td>\n",
       "      <td>NaN</td>\n",
       "      <td>NaN</td>\n",
       "      <td>NaN</td>\n",
       "      <td>NaN</td>\n",
       "      <td>NaN</td>\n",
       "      <td>NaN</td>\n",
       "      <td>NaN</td>\n",
       "    </tr>\n",
       "    <tr>\n",
       "      <th>1</th>\n",
       "      <td>NaN</td>\n",
       "      <td>NaN</td>\n",
       "      <td>NaN</td>\n",
       "      <td>NaN</td>\n",
       "      <td>NaN</td>\n",
       "      <td>NaN</td>\n",
       "      <td>NaN</td>\n",
       "      <td>NaN</td>\n",
       "      <td>NaN</td>\n",
       "      <td>NaN</td>\n",
       "      <td>...</td>\n",
       "      <td>NaN</td>\n",
       "      <td>NaN</td>\n",
       "      <td>NaN</td>\n",
       "      <td>NaN</td>\n",
       "      <td>NaN</td>\n",
       "      <td>NaN</td>\n",
       "      <td>NaN</td>\n",
       "      <td>NaN</td>\n",
       "      <td>NaN</td>\n",
       "      <td>NaN</td>\n",
       "    </tr>\n",
       "    <tr>\n",
       "      <th>2</th>\n",
       "      <td>NaN</td>\n",
       "      <td>NaN</td>\n",
       "      <td>NaN</td>\n",
       "      <td>NaN</td>\n",
       "      <td>NaN</td>\n",
       "      <td>NaN</td>\n",
       "      <td>NaN</td>\n",
       "      <td>NaN</td>\n",
       "      <td>NaN</td>\n",
       "      <td>NaN</td>\n",
       "      <td>...</td>\n",
       "      <td>NaN</td>\n",
       "      <td>NaN</td>\n",
       "      <td>NaN</td>\n",
       "      <td>NaN</td>\n",
       "      <td>NaN</td>\n",
       "      <td>NaN</td>\n",
       "      <td>NaN</td>\n",
       "      <td>NaN</td>\n",
       "      <td>NaN</td>\n",
       "      <td>NaN</td>\n",
       "    </tr>\n",
       "    <tr>\n",
       "      <th>3</th>\n",
       "      <td>NaN</td>\n",
       "      <td>NaN</td>\n",
       "      <td>NaN</td>\n",
       "      <td>NaN</td>\n",
       "      <td>NaN</td>\n",
       "      <td>NaN</td>\n",
       "      <td>NaN</td>\n",
       "      <td>NaN</td>\n",
       "      <td>NaN</td>\n",
       "      <td>NaN</td>\n",
       "      <td>...</td>\n",
       "      <td>NaN</td>\n",
       "      <td>NaN</td>\n",
       "      <td>NaN</td>\n",
       "      <td>NaN</td>\n",
       "      <td>NaN</td>\n",
       "      <td>NaN</td>\n",
       "      <td>NaN</td>\n",
       "      <td>NaN</td>\n",
       "      <td>NaN</td>\n",
       "      <td>NaN</td>\n",
       "    </tr>\n",
       "    <tr>\n",
       "      <th>4</th>\n",
       "      <td>NaN</td>\n",
       "      <td>NaN</td>\n",
       "      <td>NaN</td>\n",
       "      <td>NaN</td>\n",
       "      <td>NaN</td>\n",
       "      <td>NaN</td>\n",
       "      <td>NaN</td>\n",
       "      <td>NaN</td>\n",
       "      <td>NaN</td>\n",
       "      <td>NaN</td>\n",
       "      <td>...</td>\n",
       "      <td>NaN</td>\n",
       "      <td>NaN</td>\n",
       "      <td>NaN</td>\n",
       "      <td>NaN</td>\n",
       "      <td>NaN</td>\n",
       "      <td>NaN</td>\n",
       "      <td>NaN</td>\n",
       "      <td>NaN</td>\n",
       "      <td>NaN</td>\n",
       "      <td>NaN</td>\n",
       "    </tr>\n",
       "  </tbody>\n",
       "</table>\n",
       "<p>5 rows × 2502 columns</p>\n",
       "</div>"
      ],
      "text/plain": [
       "  DOC_ID CATEGORY    0    1    2    3    4    5    6    7  ... 2490 2491 2492  \\\n",
       "0    NaN      NaN  NaN  NaN  NaN  NaN  NaN  NaN  NaN  NaN  ...  NaN  NaN  NaN   \n",
       "1    NaN      NaN  NaN  NaN  NaN  NaN  NaN  NaN  NaN  NaN  ...  NaN  NaN  NaN   \n",
       "2    NaN      NaN  NaN  NaN  NaN  NaN  NaN  NaN  NaN  NaN  ...  NaN  NaN  NaN   \n",
       "3    NaN      NaN  NaN  NaN  NaN  NaN  NaN  NaN  NaN  NaN  ...  NaN  NaN  NaN   \n",
       "4    NaN      NaN  NaN  NaN  NaN  NaN  NaN  NaN  NaN  NaN  ...  NaN  NaN  NaN   \n",
       "\n",
       "  2493 2494 2495 2496 2497 2498 2499  \n",
       "0  NaN  NaN  NaN  NaN  NaN  NaN  NaN  \n",
       "1  NaN  NaN  NaN  NaN  NaN  NaN  NaN  \n",
       "2  NaN  NaN  NaN  NaN  NaN  NaN  NaN  \n",
       "3  NaN  NaN  NaN  NaN  NaN  NaN  NaN  \n",
       "4  NaN  NaN  NaN  NaN  NaN  NaN  NaN  \n",
       "\n",
       "[5 rows x 2502 columns]"
      ]
     },
     "execution_count": 88,
     "metadata": {},
     "output_type": "execute_result"
    }
   ],
   "source": [
    "full_train_data = pd.DataFrame(index=index_names, columns=column_names)\n",
    "full_train_data.head()"
   ]
  },
  {
   "cell_type": "code",
   "execution_count": 91,
   "id": "a76f8e60",
   "metadata": {},
   "outputs": [
    {
     "data": {
      "text/html": [
       "<div>\n",
       "<style scoped>\n",
       "    .dataframe tbody tr th:only-of-type {\n",
       "        vertical-align: middle;\n",
       "    }\n",
       "\n",
       "    .dataframe tbody tr th {\n",
       "        vertical-align: top;\n",
       "    }\n",
       "\n",
       "    .dataframe thead th {\n",
       "        text-align: right;\n",
       "    }\n",
       "</style>\n",
       "<table border=\"1\" class=\"dataframe\">\n",
       "  <thead>\n",
       "    <tr style=\"text-align: right;\">\n",
       "      <th></th>\n",
       "      <th>DOC_ID</th>\n",
       "      <th>CATEGORY</th>\n",
       "      <th>0</th>\n",
       "      <th>1</th>\n",
       "      <th>2</th>\n",
       "      <th>3</th>\n",
       "      <th>4</th>\n",
       "      <th>5</th>\n",
       "      <th>6</th>\n",
       "      <th>7</th>\n",
       "      <th>...</th>\n",
       "      <th>2490</th>\n",
       "      <th>2491</th>\n",
       "      <th>2492</th>\n",
       "      <th>2493</th>\n",
       "      <th>2494</th>\n",
       "      <th>2495</th>\n",
       "      <th>2496</th>\n",
       "      <th>2497</th>\n",
       "      <th>2498</th>\n",
       "      <th>2499</th>\n",
       "    </tr>\n",
       "  </thead>\n",
       "  <tbody>\n",
       "    <tr>\n",
       "      <th>0</th>\n",
       "      <td>0</td>\n",
       "      <td>0</td>\n",
       "      <td>0</td>\n",
       "      <td>0</td>\n",
       "      <td>0</td>\n",
       "      <td>0</td>\n",
       "      <td>0</td>\n",
       "      <td>0</td>\n",
       "      <td>0</td>\n",
       "      <td>0</td>\n",
       "      <td>...</td>\n",
       "      <td>0</td>\n",
       "      <td>0</td>\n",
       "      <td>0</td>\n",
       "      <td>0</td>\n",
       "      <td>0</td>\n",
       "      <td>0</td>\n",
       "      <td>0</td>\n",
       "      <td>0</td>\n",
       "      <td>0</td>\n",
       "      <td>0</td>\n",
       "    </tr>\n",
       "    <tr>\n",
       "      <th>1</th>\n",
       "      <td>0</td>\n",
       "      <td>0</td>\n",
       "      <td>0</td>\n",
       "      <td>0</td>\n",
       "      <td>0</td>\n",
       "      <td>0</td>\n",
       "      <td>0</td>\n",
       "      <td>0</td>\n",
       "      <td>0</td>\n",
       "      <td>0</td>\n",
       "      <td>...</td>\n",
       "      <td>0</td>\n",
       "      <td>0</td>\n",
       "      <td>0</td>\n",
       "      <td>0</td>\n",
       "      <td>0</td>\n",
       "      <td>0</td>\n",
       "      <td>0</td>\n",
       "      <td>0</td>\n",
       "      <td>0</td>\n",
       "      <td>0</td>\n",
       "    </tr>\n",
       "    <tr>\n",
       "      <th>2</th>\n",
       "      <td>0</td>\n",
       "      <td>0</td>\n",
       "      <td>0</td>\n",
       "      <td>0</td>\n",
       "      <td>0</td>\n",
       "      <td>0</td>\n",
       "      <td>0</td>\n",
       "      <td>0</td>\n",
       "      <td>0</td>\n",
       "      <td>0</td>\n",
       "      <td>...</td>\n",
       "      <td>0</td>\n",
       "      <td>0</td>\n",
       "      <td>0</td>\n",
       "      <td>0</td>\n",
       "      <td>0</td>\n",
       "      <td>0</td>\n",
       "      <td>0</td>\n",
       "      <td>0</td>\n",
       "      <td>0</td>\n",
       "      <td>0</td>\n",
       "    </tr>\n",
       "    <tr>\n",
       "      <th>3</th>\n",
       "      <td>0</td>\n",
       "      <td>0</td>\n",
       "      <td>0</td>\n",
       "      <td>0</td>\n",
       "      <td>0</td>\n",
       "      <td>0</td>\n",
       "      <td>0</td>\n",
       "      <td>0</td>\n",
       "      <td>0</td>\n",
       "      <td>0</td>\n",
       "      <td>...</td>\n",
       "      <td>0</td>\n",
       "      <td>0</td>\n",
       "      <td>0</td>\n",
       "      <td>0</td>\n",
       "      <td>0</td>\n",
       "      <td>0</td>\n",
       "      <td>0</td>\n",
       "      <td>0</td>\n",
       "      <td>0</td>\n",
       "      <td>0</td>\n",
       "    </tr>\n",
       "    <tr>\n",
       "      <th>4</th>\n",
       "      <td>0</td>\n",
       "      <td>0</td>\n",
       "      <td>0</td>\n",
       "      <td>0</td>\n",
       "      <td>0</td>\n",
       "      <td>0</td>\n",
       "      <td>0</td>\n",
       "      <td>0</td>\n",
       "      <td>0</td>\n",
       "      <td>0</td>\n",
       "      <td>...</td>\n",
       "      <td>0</td>\n",
       "      <td>0</td>\n",
       "      <td>0</td>\n",
       "      <td>0</td>\n",
       "      <td>0</td>\n",
       "      <td>0</td>\n",
       "      <td>0</td>\n",
       "      <td>0</td>\n",
       "      <td>0</td>\n",
       "      <td>0</td>\n",
       "    </tr>\n",
       "  </tbody>\n",
       "</table>\n",
       "<p>5 rows × 2502 columns</p>\n",
       "</div>"
      ],
      "text/plain": [
       "   DOC_ID  CATEGORY  0  1  2  3  4  5  6  7  ...  2490  2491  2492  2493  \\\n",
       "0       0         0  0  0  0  0  0  0  0  0  ...     0     0     0     0   \n",
       "1       0         0  0  0  0  0  0  0  0  0  ...     0     0     0     0   \n",
       "2       0         0  0  0  0  0  0  0  0  0  ...     0     0     0     0   \n",
       "3       0         0  0  0  0  0  0  0  0  0  ...     0     0     0     0   \n",
       "4       0         0  0  0  0  0  0  0  0  0  ...     0     0     0     0   \n",
       "\n",
       "   2494  2495  2496  2497  2498  2499  \n",
       "0     0     0     0     0     0     0  \n",
       "1     0     0     0     0     0     0  \n",
       "2     0     0     0     0     0     0  \n",
       "3     0     0     0     0     0     0  \n",
       "4     0     0     0     0     0     0  \n",
       "\n",
       "[5 rows x 2502 columns]"
      ]
     },
     "execution_count": 91,
     "metadata": {},
     "output_type": "execute_result"
    }
   ],
   "source": [
    "full_train_data.fillna(value=0,inplace=True)\n",
    "full_train_data.head()"
   ]
  },
  {
   "cell_type": "code",
   "execution_count": 99,
   "id": "893bdbf7",
   "metadata": {},
   "outputs": [],
   "source": [
    "def make_full_matrix(sparse_matrix, nr_words, doc_idx=0, word_idx=1, cat_idx=2, freq_idx=3):\n",
    "    \n",
    "    column_names = ['DOC_ID'] + ['CATEGORY'] + list(range(0,VOCAB_SIZE))\n",
    "    doc_id_names = np.unique(sparse_matrix[:,0])\n",
    "    full_matrix = pd.DataFrame(index=doc_id_names, columns=column_names)\n",
    "    full_matrix.fillna(value=0,inplace=True)\n",
    "    \n",
    "    for i in range(sparse_matrix.shape[0]):\n",
    "        doc_nr = sparse_matrix[i][doc_idx]\n",
    "        word_id = sparse_matrix[i][word_idx]\n",
    "        label = sparse_matrix[i][cat_idx]\n",
    "        occurence = sparse_matrix[i][freq_idx]\n",
    "        \n",
    "        full_matrix.at[doc_nr,'DOC_ID'] = doc_nr\n",
    "        full_matrix.at[doc_nr,'CATEGORY'] = label\n",
    "        full_matrix.at[doc_nr, word_id] = occurence\n",
    "        \n",
    "        \n",
    "    full_matrix.set_index('DOC_ID', inplace=True)    \n",
    "    return full_matrix\n",
    "\n"
   ]
  },
  {
   "cell_type": "code",
   "execution_count": 100,
   "id": "2e9297de",
   "metadata": {},
   "outputs": [
    {
     "name": "stdout",
     "output_type": "stream",
     "text": [
      "CPU times: user 6.35 s, sys: 29.8 ms, total: 6.38 s\n",
      "Wall time: 6.37 s\n"
     ]
    }
   ],
   "source": [
    "%%time\n",
    "full_train_data = make_full_matrix(sparse_train_data, VOCAB_SIZE)"
   ]
  },
  {
   "cell_type": "code",
   "execution_count": 101,
   "id": "a9ea806a",
   "metadata": {},
   "outputs": [
    {
     "data": {
      "text/html": [
       "<div>\n",
       "<style scoped>\n",
       "    .dataframe tbody tr th:only-of-type {\n",
       "        vertical-align: middle;\n",
       "    }\n",
       "\n",
       "    .dataframe tbody tr th {\n",
       "        vertical-align: top;\n",
       "    }\n",
       "\n",
       "    .dataframe thead th {\n",
       "        text-align: right;\n",
       "    }\n",
       "</style>\n",
       "<table border=\"1\" class=\"dataframe\">\n",
       "  <thead>\n",
       "    <tr style=\"text-align: right;\">\n",
       "      <th></th>\n",
       "      <th>CATEGORY</th>\n",
       "      <th>0</th>\n",
       "      <th>1</th>\n",
       "      <th>2</th>\n",
       "      <th>3</th>\n",
       "      <th>4</th>\n",
       "      <th>5</th>\n",
       "      <th>6</th>\n",
       "      <th>7</th>\n",
       "      <th>8</th>\n",
       "      <th>...</th>\n",
       "      <th>2490</th>\n",
       "      <th>2491</th>\n",
       "      <th>2492</th>\n",
       "      <th>2493</th>\n",
       "      <th>2494</th>\n",
       "      <th>2495</th>\n",
       "      <th>2496</th>\n",
       "      <th>2497</th>\n",
       "      <th>2498</th>\n",
       "      <th>2499</th>\n",
       "    </tr>\n",
       "    <tr>\n",
       "      <th>DOC_ID</th>\n",
       "      <th></th>\n",
       "      <th></th>\n",
       "      <th></th>\n",
       "      <th></th>\n",
       "      <th></th>\n",
       "      <th></th>\n",
       "      <th></th>\n",
       "      <th></th>\n",
       "      <th></th>\n",
       "      <th></th>\n",
       "      <th></th>\n",
       "      <th></th>\n",
       "      <th></th>\n",
       "      <th></th>\n",
       "      <th></th>\n",
       "      <th></th>\n",
       "      <th></th>\n",
       "      <th></th>\n",
       "      <th></th>\n",
       "      <th></th>\n",
       "      <th></th>\n",
       "    </tr>\n",
       "  </thead>\n",
       "  <tbody>\n",
       "    <tr>\n",
       "      <th>0</th>\n",
       "      <td>1</td>\n",
       "      <td>2</td>\n",
       "      <td>0</td>\n",
       "      <td>0</td>\n",
       "      <td>0</td>\n",
       "      <td>0</td>\n",
       "      <td>0</td>\n",
       "      <td>0</td>\n",
       "      <td>1</td>\n",
       "      <td>0</td>\n",
       "      <td>...</td>\n",
       "      <td>0</td>\n",
       "      <td>0</td>\n",
       "      <td>0</td>\n",
       "      <td>0</td>\n",
       "      <td>0</td>\n",
       "      <td>0</td>\n",
       "      <td>0</td>\n",
       "      <td>0</td>\n",
       "      <td>0</td>\n",
       "      <td>0</td>\n",
       "    </tr>\n",
       "    <tr>\n",
       "      <th>1</th>\n",
       "      <td>1</td>\n",
       "      <td>2</td>\n",
       "      <td>0</td>\n",
       "      <td>1</td>\n",
       "      <td>2</td>\n",
       "      <td>1</td>\n",
       "      <td>1</td>\n",
       "      <td>0</td>\n",
       "      <td>0</td>\n",
       "      <td>0</td>\n",
       "      <td>...</td>\n",
       "      <td>0</td>\n",
       "      <td>0</td>\n",
       "      <td>0</td>\n",
       "      <td>0</td>\n",
       "      <td>0</td>\n",
       "      <td>0</td>\n",
       "      <td>0</td>\n",
       "      <td>0</td>\n",
       "      <td>0</td>\n",
       "      <td>0</td>\n",
       "    </tr>\n",
       "    <tr>\n",
       "      <th>2</th>\n",
       "      <td>1</td>\n",
       "      <td>2</td>\n",
       "      <td>0</td>\n",
       "      <td>2</td>\n",
       "      <td>0</td>\n",
       "      <td>0</td>\n",
       "      <td>3</td>\n",
       "      <td>0</td>\n",
       "      <td>0</td>\n",
       "      <td>0</td>\n",
       "      <td>...</td>\n",
       "      <td>0</td>\n",
       "      <td>0</td>\n",
       "      <td>0</td>\n",
       "      <td>0</td>\n",
       "      <td>0</td>\n",
       "      <td>0</td>\n",
       "      <td>0</td>\n",
       "      <td>0</td>\n",
       "      <td>0</td>\n",
       "      <td>0</td>\n",
       "    </tr>\n",
       "    <tr>\n",
       "      <th>3</th>\n",
       "      <td>1</td>\n",
       "      <td>3</td>\n",
       "      <td>0</td>\n",
       "      <td>0</td>\n",
       "      <td>1</td>\n",
       "      <td>0</td>\n",
       "      <td>1</td>\n",
       "      <td>1</td>\n",
       "      <td>0</td>\n",
       "      <td>0</td>\n",
       "      <td>...</td>\n",
       "      <td>0</td>\n",
       "      <td>0</td>\n",
       "      <td>0</td>\n",
       "      <td>0</td>\n",
       "      <td>0</td>\n",
       "      <td>0</td>\n",
       "      <td>0</td>\n",
       "      <td>0</td>\n",
       "      <td>0</td>\n",
       "      <td>0</td>\n",
       "    </tr>\n",
       "    <tr>\n",
       "      <th>4</th>\n",
       "      <td>1</td>\n",
       "      <td>0</td>\n",
       "      <td>0</td>\n",
       "      <td>0</td>\n",
       "      <td>1</td>\n",
       "      <td>2</td>\n",
       "      <td>4</td>\n",
       "      <td>2</td>\n",
       "      <td>3</td>\n",
       "      <td>1</td>\n",
       "      <td>...</td>\n",
       "      <td>0</td>\n",
       "      <td>0</td>\n",
       "      <td>0</td>\n",
       "      <td>0</td>\n",
       "      <td>0</td>\n",
       "      <td>0</td>\n",
       "      <td>0</td>\n",
       "      <td>0</td>\n",
       "      <td>0</td>\n",
       "      <td>0</td>\n",
       "    </tr>\n",
       "  </tbody>\n",
       "</table>\n",
       "<p>5 rows × 2501 columns</p>\n",
       "</div>"
      ],
      "text/plain": [
       "        CATEGORY  0  1  2  3  4  5  6  7  8  ...  2490  2491  2492  2493  \\\n",
       "DOC_ID                                       ...                           \n",
       "0              1  2  0  0  0  0  0  0  1  0  ...     0     0     0     0   \n",
       "1              1  2  0  1  2  1  1  0  0  0  ...     0     0     0     0   \n",
       "2              1  2  0  2  0  0  3  0  0  0  ...     0     0     0     0   \n",
       "3              1  3  0  0  1  0  1  1  0  0  ...     0     0     0     0   \n",
       "4              1  0  0  0  1  2  4  2  3  1  ...     0     0     0     0   \n",
       "\n",
       "        2494  2495  2496  2497  2498  2499  \n",
       "DOC_ID                                      \n",
       "0          0     0     0     0     0     0  \n",
       "1          0     0     0     0     0     0  \n",
       "2          0     0     0     0     0     0  \n",
       "3          0     0     0     0     0     0  \n",
       "4          0     0     0     0     0     0  \n",
       "\n",
       "[5 rows x 2501 columns]"
      ]
     },
     "execution_count": 101,
     "metadata": {},
     "output_type": "execute_result"
    }
   ],
   "source": [
    "full_train_data.head()"
   ]
  },
  {
   "cell_type": "markdown",
   "id": "b8f57152",
   "metadata": {},
   "source": [
    "## Training the Naive Bayes Model"
   ]
  },
  {
   "cell_type": "code",
   "execution_count": 108,
   "id": "5c4017d6",
   "metadata": {},
   "outputs": [
    {
     "name": "stdout",
     "output_type": "stream",
     "text": [
      "The probabilty of spam is: 31.116093672147482 %\n"
     ]
    }
   ],
   "source": [
    "prob_spam = full_train_data.CATEGORY.sum() / full_train_data.CATEGORY.size\n",
    "print(\"The probabilty of spam is:\", prob_spam * 100,\"%\")"
   ]
  },
  {
   "cell_type": "code",
   "execution_count": 111,
   "id": "862db825",
   "metadata": {},
   "outputs": [
    {
     "data": {
      "text/html": [
       "<div>\n",
       "<style scoped>\n",
       "    .dataframe tbody tr th:only-of-type {\n",
       "        vertical-align: middle;\n",
       "    }\n",
       "\n",
       "    .dataframe tbody tr th {\n",
       "        vertical-align: top;\n",
       "    }\n",
       "\n",
       "    .dataframe thead th {\n",
       "        text-align: right;\n",
       "    }\n",
       "</style>\n",
       "<table border=\"1\" class=\"dataframe\">\n",
       "  <thead>\n",
       "    <tr style=\"text-align: right;\">\n",
       "      <th></th>\n",
       "      <th>0</th>\n",
       "      <th>1</th>\n",
       "      <th>2</th>\n",
       "      <th>3</th>\n",
       "      <th>4</th>\n",
       "      <th>5</th>\n",
       "      <th>6</th>\n",
       "      <th>7</th>\n",
       "      <th>8</th>\n",
       "      <th>9</th>\n",
       "      <th>...</th>\n",
       "      <th>2490</th>\n",
       "      <th>2491</th>\n",
       "      <th>2492</th>\n",
       "      <th>2493</th>\n",
       "      <th>2494</th>\n",
       "      <th>2495</th>\n",
       "      <th>2496</th>\n",
       "      <th>2497</th>\n",
       "      <th>2498</th>\n",
       "      <th>2499</th>\n",
       "    </tr>\n",
       "    <tr>\n",
       "      <th>DOC_ID</th>\n",
       "      <th></th>\n",
       "      <th></th>\n",
       "      <th></th>\n",
       "      <th></th>\n",
       "      <th></th>\n",
       "      <th></th>\n",
       "      <th></th>\n",
       "      <th></th>\n",
       "      <th></th>\n",
       "      <th></th>\n",
       "      <th></th>\n",
       "      <th></th>\n",
       "      <th></th>\n",
       "      <th></th>\n",
       "      <th></th>\n",
       "      <th></th>\n",
       "      <th></th>\n",
       "      <th></th>\n",
       "      <th></th>\n",
       "      <th></th>\n",
       "      <th></th>\n",
       "    </tr>\n",
       "  </thead>\n",
       "  <tbody>\n",
       "    <tr>\n",
       "      <th>0</th>\n",
       "      <td>2</td>\n",
       "      <td>0</td>\n",
       "      <td>0</td>\n",
       "      <td>0</td>\n",
       "      <td>0</td>\n",
       "      <td>0</td>\n",
       "      <td>0</td>\n",
       "      <td>1</td>\n",
       "      <td>0</td>\n",
       "      <td>0</td>\n",
       "      <td>...</td>\n",
       "      <td>0</td>\n",
       "      <td>0</td>\n",
       "      <td>0</td>\n",
       "      <td>0</td>\n",
       "      <td>0</td>\n",
       "      <td>0</td>\n",
       "      <td>0</td>\n",
       "      <td>0</td>\n",
       "      <td>0</td>\n",
       "      <td>0</td>\n",
       "    </tr>\n",
       "    <tr>\n",
       "      <th>1</th>\n",
       "      <td>2</td>\n",
       "      <td>0</td>\n",
       "      <td>1</td>\n",
       "      <td>2</td>\n",
       "      <td>1</td>\n",
       "      <td>1</td>\n",
       "      <td>0</td>\n",
       "      <td>0</td>\n",
       "      <td>0</td>\n",
       "      <td>0</td>\n",
       "      <td>...</td>\n",
       "      <td>0</td>\n",
       "      <td>0</td>\n",
       "      <td>0</td>\n",
       "      <td>0</td>\n",
       "      <td>0</td>\n",
       "      <td>0</td>\n",
       "      <td>0</td>\n",
       "      <td>0</td>\n",
       "      <td>0</td>\n",
       "      <td>0</td>\n",
       "    </tr>\n",
       "    <tr>\n",
       "      <th>2</th>\n",
       "      <td>2</td>\n",
       "      <td>0</td>\n",
       "      <td>2</td>\n",
       "      <td>0</td>\n",
       "      <td>0</td>\n",
       "      <td>3</td>\n",
       "      <td>0</td>\n",
       "      <td>0</td>\n",
       "      <td>0</td>\n",
       "      <td>0</td>\n",
       "      <td>...</td>\n",
       "      <td>0</td>\n",
       "      <td>0</td>\n",
       "      <td>0</td>\n",
       "      <td>0</td>\n",
       "      <td>0</td>\n",
       "      <td>0</td>\n",
       "      <td>0</td>\n",
       "      <td>0</td>\n",
       "      <td>0</td>\n",
       "      <td>0</td>\n",
       "    </tr>\n",
       "    <tr>\n",
       "      <th>3</th>\n",
       "      <td>3</td>\n",
       "      <td>0</td>\n",
       "      <td>0</td>\n",
       "      <td>1</td>\n",
       "      <td>0</td>\n",
       "      <td>1</td>\n",
       "      <td>1</td>\n",
       "      <td>0</td>\n",
       "      <td>0</td>\n",
       "      <td>0</td>\n",
       "      <td>...</td>\n",
       "      <td>0</td>\n",
       "      <td>0</td>\n",
       "      <td>0</td>\n",
       "      <td>0</td>\n",
       "      <td>0</td>\n",
       "      <td>0</td>\n",
       "      <td>0</td>\n",
       "      <td>0</td>\n",
       "      <td>0</td>\n",
       "      <td>0</td>\n",
       "    </tr>\n",
       "    <tr>\n",
       "      <th>4</th>\n",
       "      <td>0</td>\n",
       "      <td>0</td>\n",
       "      <td>0</td>\n",
       "      <td>1</td>\n",
       "      <td>2</td>\n",
       "      <td>4</td>\n",
       "      <td>2</td>\n",
       "      <td>3</td>\n",
       "      <td>1</td>\n",
       "      <td>1</td>\n",
       "      <td>...</td>\n",
       "      <td>0</td>\n",
       "      <td>0</td>\n",
       "      <td>0</td>\n",
       "      <td>0</td>\n",
       "      <td>0</td>\n",
       "      <td>0</td>\n",
       "      <td>0</td>\n",
       "      <td>0</td>\n",
       "      <td>0</td>\n",
       "      <td>0</td>\n",
       "    </tr>\n",
       "  </tbody>\n",
       "</table>\n",
       "<p>5 rows × 2500 columns</p>\n",
       "</div>"
      ],
      "text/plain": [
       "        0     1     2     3     4     5     6     7     8     9     ...  2490  \\\n",
       "DOC_ID                                                              ...         \n",
       "0          2     0     0     0     0     0     0     1     0     0  ...     0   \n",
       "1          2     0     1     2     1     1     0     0     0     0  ...     0   \n",
       "2          2     0     2     0     0     3     0     0     0     0  ...     0   \n",
       "3          3     0     0     1     0     1     1     0     0     0  ...     0   \n",
       "4          0     0     0     1     2     4     2     3     1     1  ...     0   \n",
       "\n",
       "        2491  2492  2493  2494  2495  2496  2497  2498  2499  \n",
       "DOC_ID                                                        \n",
       "0          0     0     0     0     0     0     0     0     0  \n",
       "1          0     0     0     0     0     0     0     0     0  \n",
       "2          0     0     0     0     0     0     0     0     0  \n",
       "3          0     0     0     0     0     0     0     0     0  \n",
       "4          0     0     0     0     0     0     0     0     0  \n",
       "\n",
       "[5 rows x 2500 columns]"
      ]
     },
     "execution_count": 111,
     "metadata": {},
     "output_type": "execute_result"
    }
   ],
   "source": [
    "full_train_features = full_train_data.loc[:, full_train_data.columns != 'CATEGORY']\n",
    "full_train_features.head()"
   ]
  },
  {
   "cell_type": "code",
   "execution_count": 112,
   "id": "01f0f6ea",
   "metadata": {},
   "outputs": [
    {
     "data": {
      "text/plain": [
       "(4014,)"
      ]
     },
     "execution_count": 112,
     "metadata": {},
     "output_type": "execute_result"
    }
   ],
   "source": [
    "email_lengths = full_train_features.sum(axis=1)\n",
    "email_lengths.shape"
   ]
  },
  {
   "cell_type": "code",
   "execution_count": 114,
   "id": "89188101",
   "metadata": {},
   "outputs": [
    {
     "data": {
      "text/plain": [
       "DOC_ID\n",
       "0     50\n",
       "1     76\n",
       "2     87\n",
       "3     76\n",
       "4    137\n",
       "dtype: int64"
      ]
     },
     "execution_count": 114,
     "metadata": {},
     "output_type": "execute_result"
    }
   ],
   "source": [
    "email_lengths[:5]"
   ]
  },
  {
   "cell_type": "code",
   "execution_count": 116,
   "id": "c9e791fb",
   "metadata": {},
   "outputs": [
    {
     "data": {
      "text/plain": [
       "444950"
      ]
     },
     "execution_count": 116,
     "metadata": {},
     "output_type": "execute_result"
    }
   ],
   "source": [
    "total_wc = email_lengths.sum()\n",
    "total_wc"
   ]
  },
  {
   "cell_type": "code",
   "execution_count": 118,
   "id": "fd63fd70",
   "metadata": {},
   "outputs": [
    {
     "data": {
      "text/plain": [
       "(1249,)"
      ]
     },
     "execution_count": 118,
     "metadata": {},
     "output_type": "execute_result"
    }
   ],
   "source": [
    "spam_lengths = email_lengths[full_train_data.CATEGORY == 1]\n",
    "spam_lengths.shape"
   ]
  },
  {
   "cell_type": "code",
   "execution_count": 119,
   "id": "318b441f",
   "metadata": {},
   "outputs": [
    {
     "data": {
      "text/plain": [
       "193983"
      ]
     },
     "execution_count": 119,
     "metadata": {},
     "output_type": "execute_result"
    }
   ],
   "source": [
    "spam_wc = spam_lengths.sum()\n",
    "spam_wc"
   ]
  },
  {
   "cell_type": "code",
   "execution_count": 121,
   "id": "740bea4a",
   "metadata": {},
   "outputs": [
    {
     "data": {
      "text/plain": [
       "(2765,)"
      ]
     },
     "execution_count": 121,
     "metadata": {},
     "output_type": "execute_result"
    }
   ],
   "source": [
    "normal_lengths = email_lengths[full_train_data.CATEGORY == 0]\n",
    "normal_lengths.shape"
   ]
  },
  {
   "cell_type": "code",
   "execution_count": 122,
   "id": "7343ddf7",
   "metadata": {},
   "outputs": [
    {
     "data": {
      "text/plain": [
       "250967"
      ]
     },
     "execution_count": 122,
     "metadata": {},
     "output_type": "execute_result"
    }
   ],
   "source": [
    "normal_wc = normal_lengths.sum()\n",
    "normal_wc"
   ]
  },
  {
   "cell_type": "code",
   "execution_count": 128,
   "id": "96412cbe",
   "metadata": {},
   "outputs": [
    {
     "name": "stdout",
     "output_type": "stream",
     "text": [
      "Average number of words in spam emails 155\n",
      "Average number of words in normal emails 90.77\n"
     ]
    }
   ],
   "source": [
    "print(\"Average number of words in spam emails {:.0f}\".format(spam_wc / spam_lengths.shape[0]))\n",
    "print(\"Average number of words in normal emails {:.2f}\".format(normal_wc / normal_lengths.shape[0]))"
   ]
  },
  {
   "cell_type": "code",
   "execution_count": 129,
   "id": "86908a47",
   "metadata": {},
   "outputs": [
    {
     "data": {
      "text/html": [
       "<div>\n",
       "<style scoped>\n",
       "    .dataframe tbody tr th:only-of-type {\n",
       "        vertical-align: middle;\n",
       "    }\n",
       "\n",
       "    .dataframe tbody tr th {\n",
       "        vertical-align: top;\n",
       "    }\n",
       "\n",
       "    .dataframe thead th {\n",
       "        text-align: right;\n",
       "    }\n",
       "</style>\n",
       "<table border=\"1\" class=\"dataframe\">\n",
       "  <thead>\n",
       "    <tr style=\"text-align: right;\">\n",
       "      <th></th>\n",
       "      <th>0</th>\n",
       "      <th>1</th>\n",
       "      <th>2</th>\n",
       "      <th>3</th>\n",
       "      <th>4</th>\n",
       "      <th>5</th>\n",
       "      <th>6</th>\n",
       "      <th>7</th>\n",
       "      <th>8</th>\n",
       "      <th>9</th>\n",
       "      <th>...</th>\n",
       "      <th>2490</th>\n",
       "      <th>2491</th>\n",
       "      <th>2492</th>\n",
       "      <th>2493</th>\n",
       "      <th>2494</th>\n",
       "      <th>2495</th>\n",
       "      <th>2496</th>\n",
       "      <th>2497</th>\n",
       "      <th>2498</th>\n",
       "      <th>2499</th>\n",
       "    </tr>\n",
       "    <tr>\n",
       "      <th>DOC_ID</th>\n",
       "      <th></th>\n",
       "      <th></th>\n",
       "      <th></th>\n",
       "      <th></th>\n",
       "      <th></th>\n",
       "      <th></th>\n",
       "      <th></th>\n",
       "      <th></th>\n",
       "      <th></th>\n",
       "      <th></th>\n",
       "      <th></th>\n",
       "      <th></th>\n",
       "      <th></th>\n",
       "      <th></th>\n",
       "      <th></th>\n",
       "      <th></th>\n",
       "      <th></th>\n",
       "      <th></th>\n",
       "      <th></th>\n",
       "      <th></th>\n",
       "      <th></th>\n",
       "    </tr>\n",
       "  </thead>\n",
       "  <tbody>\n",
       "    <tr>\n",
       "      <th>0</th>\n",
       "      <td>2</td>\n",
       "      <td>0</td>\n",
       "      <td>0</td>\n",
       "      <td>0</td>\n",
       "      <td>0</td>\n",
       "      <td>0</td>\n",
       "      <td>0</td>\n",
       "      <td>1</td>\n",
       "      <td>0</td>\n",
       "      <td>0</td>\n",
       "      <td>...</td>\n",
       "      <td>0</td>\n",
       "      <td>0</td>\n",
       "      <td>0</td>\n",
       "      <td>0</td>\n",
       "      <td>0</td>\n",
       "      <td>0</td>\n",
       "      <td>0</td>\n",
       "      <td>0</td>\n",
       "      <td>0</td>\n",
       "      <td>0</td>\n",
       "    </tr>\n",
       "    <tr>\n",
       "      <th>1</th>\n",
       "      <td>2</td>\n",
       "      <td>0</td>\n",
       "      <td>1</td>\n",
       "      <td>2</td>\n",
       "      <td>1</td>\n",
       "      <td>1</td>\n",
       "      <td>0</td>\n",
       "      <td>0</td>\n",
       "      <td>0</td>\n",
       "      <td>0</td>\n",
       "      <td>...</td>\n",
       "      <td>0</td>\n",
       "      <td>0</td>\n",
       "      <td>0</td>\n",
       "      <td>0</td>\n",
       "      <td>0</td>\n",
       "      <td>0</td>\n",
       "      <td>0</td>\n",
       "      <td>0</td>\n",
       "      <td>0</td>\n",
       "      <td>0</td>\n",
       "    </tr>\n",
       "    <tr>\n",
       "      <th>2</th>\n",
       "      <td>2</td>\n",
       "      <td>0</td>\n",
       "      <td>2</td>\n",
       "      <td>0</td>\n",
       "      <td>0</td>\n",
       "      <td>3</td>\n",
       "      <td>0</td>\n",
       "      <td>0</td>\n",
       "      <td>0</td>\n",
       "      <td>0</td>\n",
       "      <td>...</td>\n",
       "      <td>0</td>\n",
       "      <td>0</td>\n",
       "      <td>0</td>\n",
       "      <td>0</td>\n",
       "      <td>0</td>\n",
       "      <td>0</td>\n",
       "      <td>0</td>\n",
       "      <td>0</td>\n",
       "      <td>0</td>\n",
       "      <td>0</td>\n",
       "    </tr>\n",
       "    <tr>\n",
       "      <th>3</th>\n",
       "      <td>3</td>\n",
       "      <td>0</td>\n",
       "      <td>0</td>\n",
       "      <td>1</td>\n",
       "      <td>0</td>\n",
       "      <td>1</td>\n",
       "      <td>1</td>\n",
       "      <td>0</td>\n",
       "      <td>0</td>\n",
       "      <td>0</td>\n",
       "      <td>...</td>\n",
       "      <td>0</td>\n",
       "      <td>0</td>\n",
       "      <td>0</td>\n",
       "      <td>0</td>\n",
       "      <td>0</td>\n",
       "      <td>0</td>\n",
       "      <td>0</td>\n",
       "      <td>0</td>\n",
       "      <td>0</td>\n",
       "      <td>0</td>\n",
       "    </tr>\n",
       "    <tr>\n",
       "      <th>4</th>\n",
       "      <td>0</td>\n",
       "      <td>0</td>\n",
       "      <td>0</td>\n",
       "      <td>1</td>\n",
       "      <td>2</td>\n",
       "      <td>4</td>\n",
       "      <td>2</td>\n",
       "      <td>3</td>\n",
       "      <td>1</td>\n",
       "      <td>1</td>\n",
       "      <td>...</td>\n",
       "      <td>0</td>\n",
       "      <td>0</td>\n",
       "      <td>0</td>\n",
       "      <td>0</td>\n",
       "      <td>0</td>\n",
       "      <td>0</td>\n",
       "      <td>0</td>\n",
       "      <td>0</td>\n",
       "      <td>0</td>\n",
       "      <td>0</td>\n",
       "    </tr>\n",
       "  </tbody>\n",
       "</table>\n",
       "<p>5 rows × 2500 columns</p>\n",
       "</div>"
      ],
      "text/plain": [
       "        0     1     2     3     4     5     6     7     8     9     ...  2490  \\\n",
       "DOC_ID                                                              ...         \n",
       "0          2     0     0     0     0     0     0     1     0     0  ...     0   \n",
       "1          2     0     1     2     1     1     0     0     0     0  ...     0   \n",
       "2          2     0     2     0     0     3     0     0     0     0  ...     0   \n",
       "3          3     0     0     1     0     1     1     0     0     0  ...     0   \n",
       "4          0     0     0     1     2     4     2     3     1     1  ...     0   \n",
       "\n",
       "        2491  2492  2493  2494  2495  2496  2497  2498  2499  \n",
       "DOC_ID                                                        \n",
       "0          0     0     0     0     0     0     0     0     0  \n",
       "1          0     0     0     0     0     0     0     0     0  \n",
       "2          0     0     0     0     0     0     0     0     0  \n",
       "3          0     0     0     0     0     0     0     0     0  \n",
       "4          0     0     0     0     0     0     0     0     0  \n",
       "\n",
       "[5 rows x 2500 columns]"
      ]
     },
     "execution_count": 129,
     "metadata": {},
     "output_type": "execute_result"
    }
   ],
   "source": [
    "train_spam_tokens = full_train_features.loc[full_train_data.CATEGORY == 1]\n",
    "train_spam_tokens.head()"
   ]
  },
  {
   "cell_type": "code",
   "execution_count": 130,
   "id": "4a55fddb",
   "metadata": {},
   "outputs": [
    {
     "data": {
      "text/plain": [
       "(2500,)"
      ]
     },
     "execution_count": 130,
     "metadata": {},
     "output_type": "execute_result"
    }
   ],
   "source": [
    "sum_spam_tokens = train_spam_tokens.sum(axis=0) + 1\n",
    "sum_spam_tokens.shape"
   ]
  },
  {
   "cell_type": "code",
   "execution_count": 131,
   "id": "e90158c3",
   "metadata": {},
   "outputs": [
    {
     "data": {
      "text/plain": [
       "(2500,)"
      ]
     },
     "execution_count": 131,
     "metadata": {},
     "output_type": "execute_result"
    }
   ],
   "source": [
    "train_normal_tokens = full_train_features.loc[full_train_data.CATEGORY == 0]\n",
    "train_normal_tokens = train_normal_tokens.sum(axis=0) + 1\n",
    "train_normal_tokens.shape"
   ]
  },
  {
   "cell_type": "markdown",
   "id": "3e03d73d",
   "metadata": {},
   "source": [
    "## P(Token | Spam) - Probability of a Token Occurs given the email is spam "
   ]
  },
  {
   "cell_type": "code",
   "execution_count": 136,
   "id": "f47be8c8",
   "metadata": {},
   "outputs": [
    {
     "data": {
      "text/plain": [
       "1.0"
      ]
     },
     "execution_count": 136,
     "metadata": {},
     "output_type": "execute_result"
    }
   ],
   "source": [
    "prob_token_spam = sum_spam_tokens / (spam_wc + VOCAB_SIZE)\n",
    "prob_token_spam.sum()"
   ]
  },
  {
   "cell_type": "markdown",
   "id": "27f48b95",
   "metadata": {},
   "source": [
    "## P(Token | Normal) - Probability of a Token Occurs given the email is normal"
   ]
  },
  {
   "cell_type": "code",
   "execution_count": 146,
   "id": "33dabf11",
   "metadata": {},
   "outputs": [
    {
     "data": {
      "text/plain": [
       "1.0"
      ]
     },
     "execution_count": 146,
     "metadata": {},
     "output_type": "execute_result"
    }
   ],
   "source": [
    "prob_token_normal = train_normal_tokens / (normal_wc + VOCAB_SIZE)\n",
    "prob_token_normal.sum()"
   ]
  },
  {
   "cell_type": "markdown",
   "id": "7f6a1643",
   "metadata": {},
   "source": [
    "## P(Token) - Probability that a Token Occurs"
   ]
  },
  {
   "cell_type": "code",
   "execution_count": 147,
   "id": "aa784a64",
   "metadata": {},
   "outputs": [
    {
     "data": {
      "text/plain": [
       "1.0"
      ]
     },
     "execution_count": 147,
     "metadata": {},
     "output_type": "execute_result"
    }
   ],
   "source": [
    "prob_tokens_all = full_train_features.sum(axis=0) / total_wc\n",
    "prob_tokens_all.sum()"
   ]
  },
  {
   "cell_type": "code",
   "execution_count": 148,
   "id": "2e55f8a7",
   "metadata": {},
   "outputs": [],
   "source": [
    "np.savetxt(TOKEN_SPAM_PROB_FILE, prob_token_spam)\n",
    "np.savetxt(TOKEN_NORM_PROB_FILE, prob_token_normal)\n",
    "np.savetxt(TOKEN_ALL_PROB_FILE, prob_tokens_all)"
   ]
  },
  {
   "cell_type": "code",
   "execution_count": 151,
   "id": "6fc1248e",
   "metadata": {},
   "outputs": [
    {
     "data": {
      "text/plain": [
       "(187657, 4)"
      ]
     },
     "execution_count": 151,
     "metadata": {},
     "output_type": "execute_result"
    }
   ],
   "source": [
    "sparse_test_data.shape"
   ]
  },
  {
   "cell_type": "code",
   "execution_count": 153,
   "id": "68bd6471",
   "metadata": {},
   "outputs": [
    {
     "name": "stdout",
     "output_type": "stream",
     "text": [
      "CPU times: user 2.9 s, sys: 103 ms, total: 3 s\n",
      "Wall time: 3 s\n"
     ]
    }
   ],
   "source": [
    "%%time\n",
    "full_test_data = make_full_matrix(sparse_test_data, nr_words=VOCAB_SIZE)"
   ]
  },
  {
   "cell_type": "code",
   "execution_count": 154,
   "id": "3fa9cf68",
   "metadata": {},
   "outputs": [],
   "source": [
    "X_test = full_test_data.loc[:,full_test_data.columns != 'CATEGORY']\n",
    "y_test = full_test_data.CATEGORY"
   ]
  },
  {
   "cell_type": "code",
   "execution_count": 156,
   "id": "7255dfba",
   "metadata": {},
   "outputs": [],
   "source": [
    "np.savetxt(TEST_TARGET_FILE, y_test)\n",
    "np.savetxt(TEST_FEATURE_MATRIX, X_test)"
   ]
  },
  {
   "cell_type": "code",
   "execution_count": null,
   "id": "7bfa9f1f",
   "metadata": {},
   "outputs": [],
   "source": []
  },
  {
   "cell_type": "code",
   "execution_count": null,
   "id": "2409a27a",
   "metadata": {},
   "outputs": [],
   "source": []
  },
  {
   "cell_type": "code",
   "execution_count": null,
   "id": "64f88a4f",
   "metadata": {},
   "outputs": [],
   "source": []
  },
  {
   "cell_type": "code",
   "execution_count": null,
   "id": "fa93eff5",
   "metadata": {},
   "outputs": [],
   "source": []
  }
 ],
 "metadata": {
  "kernelspec": {
   "display_name": "Python 3 (ipykernel)",
   "language": "python",
   "name": "python3"
  },
  "language_info": {
   "codemirror_mode": {
    "name": "ipython",
    "version": 3
   },
   "file_extension": ".py",
   "mimetype": "text/x-python",
   "name": "python",
   "nbconvert_exporter": "python",
   "pygments_lexer": "ipython3",
   "version": "3.9.7"
  }
 },
 "nbformat": 4,
 "nbformat_minor": 5
}
